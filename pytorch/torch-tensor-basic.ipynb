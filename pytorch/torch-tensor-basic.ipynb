{
 "cells": [
  {
   "cell_type": "code",
   "execution_count": 1,
   "id": "3e0a5b32",
   "metadata": {},
   "outputs": [],
   "source": [
    "import torch\n",
    "import pandas as pd\n",
    "import matplotlib as plt\n",
    "import numpy as np"
   ]
  },
  {
   "cell_type": "code",
   "execution_count": 2,
   "id": "ae4f6997",
   "metadata": {},
   "outputs": [
    {
     "name": "stdout",
     "output_type": "stream",
     "text": [
      "2.1.0.post100\n"
     ]
    }
   ],
   "source": [
    "print(torch.__version__)"
   ]
  },
  {
   "cell_type": "markdown",
   "id": "c13fe438",
   "metadata": {},
   "source": [
    "## Create a Tensor\n",
    "\n",
    "a multi-dimensional matrix containing elements of a single data type.\n",
    "\n",
    "See [tensor product doc.](https://pytorch.org/docs/stable/tensors.html)"
   ]
  },
  {
   "cell_type": "code",
   "execution_count": 3,
   "id": "d574d163",
   "metadata": {},
   "outputs": [
    {
     "data": {
      "text/plain": [
       "7"
      ]
     },
     "execution_count": 3,
     "metadata": {},
     "output_type": "execute_result"
    }
   ],
   "source": [
    "scalar = torch.tensor(7)\n",
    "scalar.ndim\n",
    "scalar.item()"
   ]
  },
  {
   "cell_type": "code",
   "execution_count": 4,
   "id": "6aecda8e",
   "metadata": {},
   "outputs": [
    {
     "data": {
      "text/plain": [
       "torch.Size([2])"
      ]
     },
     "execution_count": 4,
     "metadata": {},
     "output_type": "execute_result"
    }
   ],
   "source": [
    "vector= torch.tensor([3,4])\n",
    "vector.ndim\n",
    "vector.shape"
   ]
  },
  {
   "cell_type": "code",
   "execution_count": 5,
   "id": "a2157b84",
   "metadata": {},
   "outputs": [
    {
     "data": {
      "text/plain": [
       "torch.Size([2, 2])"
      ]
     },
     "execution_count": 5,
     "metadata": {},
     "output_type": "execute_result"
    }
   ],
   "source": [
    "matrix=torch.tensor([[3,4],[2,9]])\n",
    "matrix.ndim\n",
    "matrix.shape"
   ]
  },
  {
   "cell_type": "code",
   "execution_count": 6,
   "id": "0520742c",
   "metadata": {},
   "outputs": [
    {
     "data": {
      "text/plain": [
       "torch.Size([1, 3, 3])"
      ]
     },
     "execution_count": 6,
     "metadata": {},
     "output_type": "execute_result"
    }
   ],
   "source": [
    "t=torch.tensor([[[1,2,3],[6,7,8],[9,0,1]]])\n",
    "t.shape"
   ]
  },
  {
   "cell_type": "code",
   "execution_count": 7,
   "id": "2c72c84f",
   "metadata": {},
   "outputs": [
    {
     "data": {
      "text/plain": [
       "tensor([[0.9616, 0.6920, 0.2361, 0.1282, 0.0052],\n",
       "        [0.6863, 0.7579, 0.5905, 0.7452, 0.3609],\n",
       "        [0.2110, 0.6885, 0.0075, 0.3114, 0.2991]])"
      ]
     },
     "execution_count": 7,
     "metadata": {},
     "output_type": "execute_result"
    }
   ],
   "source": [
    "t=torch.rand(3,5)\n",
    "t"
   ]
  },
  {
   "cell_type": "markdown",
   "id": "e7f38ece",
   "metadata": {},
   "source": [
    "### Create a random tensor of an image"
   ]
  },
  {
   "cell_type": "code",
   "execution_count": 8,
   "id": "34f09b0a",
   "metadata": {},
   "outputs": [
    {
     "data": {
      "text/plain": [
       "tensor([[[0.8678, 0.8700, 0.2760],\n",
       "         [0.1654, 0.0562, 0.4003],\n",
       "         [0.8080, 0.8386, 0.5690],\n",
       "         ...,\n",
       "         [0.9458, 0.5165, 0.1726],\n",
       "         [0.9352, 0.8694, 0.4310],\n",
       "         [0.7862, 0.9366, 0.8179]],\n",
       "\n",
       "        [[0.3449, 0.5224, 0.3700],\n",
       "         [0.3186, 0.3666, 0.3693],\n",
       "         [0.9371, 0.4125, 0.8357],\n",
       "         ...,\n",
       "         [0.7558, 0.3118, 0.5471],\n",
       "         [0.9051, 0.7419, 0.9815],\n",
       "         [0.8880, 0.8071, 0.1233]],\n",
       "\n",
       "        [[0.7458, 0.7954, 0.6438],\n",
       "         [0.3478, 0.8423, 0.4235],\n",
       "         [0.7907, 0.8931, 0.6702],\n",
       "         ...,\n",
       "         [0.9723, 0.3282, 0.5871],\n",
       "         [0.4357, 0.2247, 0.6385],\n",
       "         [0.3845, 0.8664, 0.4561]],\n",
       "\n",
       "        ...,\n",
       "\n",
       "        [[0.4331, 0.6559, 0.4292],\n",
       "         [0.2234, 0.3131, 0.8144],\n",
       "         [0.7251, 0.9570, 0.0108],\n",
       "         ...,\n",
       "         [0.6979, 0.0994, 0.0810],\n",
       "         [0.9071, 0.9174, 0.7570],\n",
       "         [0.6809, 0.0995, 0.5989]],\n",
       "\n",
       "        [[0.8903, 0.4448, 0.6556],\n",
       "         [0.9036, 0.5387, 0.4692],\n",
       "         [0.0920, 0.3116, 0.6881],\n",
       "         ...,\n",
       "         [0.6643, 0.0014, 0.8488],\n",
       "         [0.2564, 0.4795, 0.4844],\n",
       "         [0.9702, 0.7057, 0.5557]],\n",
       "\n",
       "        [[0.8882, 0.3824, 0.0212],\n",
       "         [0.7342, 0.8071, 0.3746],\n",
       "         [0.9946, 0.4664, 0.6620],\n",
       "         ...,\n",
       "         [0.7162, 0.3901, 0.1024],\n",
       "         [0.4171, 0.8520, 0.7805],\n",
       "         [0.9979, 0.4971, 0.9796]]])"
      ]
     },
     "execution_count": 8,
     "metadata": {},
     "output_type": "execute_result"
    }
   ],
   "source": [
    "t_i = torch.rand(size=(224,224,3)) # height, width, color channels(RGB)\n",
    "t_i"
   ]
  },
  {
   "cell_type": "code",
   "execution_count": 9,
   "id": "e00b182c",
   "metadata": {},
   "outputs": [],
   "source": [
    "zeros = torch.zeros(size=(2,3))\n",
    "zeros\n",
    "ones= torch.ones(2,3)"
   ]
  },
  {
   "cell_type": "code",
   "execution_count": 10,
   "id": "6c1b5924",
   "metadata": {},
   "outputs": [
    {
     "data": {
      "text/plain": [
       "tensor([[0., 0., 0.],\n",
       "        [0., 0., 0.]])"
      ]
     },
     "execution_count": 10,
     "metadata": {},
     "output_type": "execute_result"
    }
   ],
   "source": [
    "ones*zeros\n"
   ]
  },
  {
   "cell_type": "markdown",
   "id": "6b41856e",
   "metadata": {},
   "source": [
    "### Range of values"
   ]
  },
  {
   "cell_type": "code",
   "execution_count": 11,
   "id": "7d12cf8f",
   "metadata": {},
   "outputs": [
    {
     "data": {
      "text/plain": [
       "tensor([ 1,  2,  3,  4,  5,  6,  7,  8,  9, 10])"
      ]
     },
     "execution_count": 11,
     "metadata": {},
     "output_type": "execute_result"
    }
   ],
   "source": [
    "t=torch.arange(1,11)\n",
    "t\n"
   ]
  },
  {
   "cell_type": "code",
   "execution_count": 12,
   "id": "e6b8f72a",
   "metadata": {},
   "outputs": [
    {
     "data": {
      "text/plain": [
       "tensor([  0,  77, 154, 231, 308, 385, 462, 539, 616, 693, 770, 847, 924])"
      ]
     },
     "execution_count": 12,
     "metadata": {},
     "output_type": "execute_result"
    }
   ],
   "source": [
    "torch.arange(start=0, end=1000,step=77)\n"
   ]
  },
  {
   "cell_type": "code",
   "execution_count": 13,
   "id": "e0baae31",
   "metadata": {},
   "outputs": [
    {
     "data": {
      "text/plain": [
       "torch.float16"
      ]
     },
     "execution_count": 13,
     "metadata": {},
     "output_type": "execute_result"
    }
   ],
   "source": [
    "t=torch.tensor([[[1,2,3],[6,7,8],[9,0,1]]], dtype=torch.float16,device=\"cpu\")\n",
    "t.dtype"
   ]
  },
  {
   "cell_type": "code",
   "execution_count": 14,
   "id": "10604c3b",
   "metadata": {},
   "outputs": [
    {
     "data": {
      "text/plain": [
       "torch.float32"
      ]
     },
     "execution_count": 14,
     "metadata": {},
     "output_type": "execute_result"
    }
   ],
   "source": [
    "b=torch.tensor([[[1.,2.,3.],[6.,7.,8.],[9.,0,1.]]])\n",
    "b.dtype"
   ]
  },
  {
   "cell_type": "code",
   "execution_count": 15,
   "id": "ac3b3567",
   "metadata": {},
   "outputs": [
    {
     "data": {
      "text/plain": [
       "tensor([[[ 1.,  4.,  9.],\n",
       "         [36., 49., 64.],\n",
       "         [81.,  0.,  1.]]])"
      ]
     },
     "execution_count": 15,
     "metadata": {},
     "output_type": "execute_result"
    }
   ],
   "source": [
    "b*t"
   ]
  },
  {
   "cell_type": "code",
   "execution_count": 16,
   "id": "564f43b7",
   "metadata": {},
   "outputs": [
    {
     "data": {
      "text/plain": [
       "tensor([[[11., 12., 13.],\n",
       "         [16., 17., 18.],\n",
       "         [19., 10., 11.]]], dtype=torch.float16)"
      ]
     },
     "execution_count": 16,
     "metadata": {},
     "output_type": "execute_result"
    }
   ],
   "source": [
    "# Addition\n",
    "t + 10\n"
   ]
  },
  {
   "cell_type": "code",
   "execution_count": 17,
   "id": "01eba540",
   "metadata": {},
   "outputs": [
    {
     "data": {
      "text/plain": [
       "tensor([[[ 2.,  4.,  6.],\n",
       "         [12., 14., 16.],\n",
       "         [18.,  0.,  2.]]], dtype=torch.float16)"
      ]
     },
     "execution_count": 17,
     "metadata": {},
     "output_type": "execute_result"
    }
   ],
   "source": [
    "# multiple by\n",
    "t * 2"
   ]
  },
  {
   "cell_type": "code",
   "execution_count": 18,
   "id": "8c9984dc",
   "metadata": {},
   "outputs": [
    {
     "data": {
      "text/plain": [
       "tensor([[19, 21],\n",
       "        [12, 13]])"
      ]
     },
     "execution_count": 18,
     "metadata": {},
     "output_type": "execute_result"
    }
   ],
   "source": [
    "# Matrix multiplication: inner dimensions need to match, and the new result dimensions = outter dimension\n",
    "\n",
    "a=torch.tensor([[2,3,4],[1,1,3]])\n",
    "b=torch.tensor([[2,3],[1,1],[3,3]])\n",
    "a.matmul(b)"
   ]
  },
  {
   "cell_type": "code",
   "execution_count": 19,
   "id": "b4b5613e",
   "metadata": {},
   "outputs": [
    {
     "data": {
      "text/plain": [
       "tensor([[2, 3, 4],\n",
       "        [1, 1, 3]])"
      ]
     },
     "execution_count": 19,
     "metadata": {},
     "output_type": "execute_result"
    }
   ],
   "source": [
    "# Transpose to change the shape\n",
    "a"
   ]
  },
  {
   "cell_type": "code",
   "execution_count": 20,
   "id": "d87d2820",
   "metadata": {},
   "outputs": [
    {
     "data": {
      "text/plain": [
       "tensor([[2, 1],\n",
       "        [3, 1],\n",
       "        [4, 3]])"
      ]
     },
     "execution_count": 20,
     "metadata": {},
     "output_type": "execute_result"
    }
   ],
   "source": [
    "a.T"
   ]
  },
  {
   "cell_type": "code",
   "execution_count": 21,
   "id": "764dcdba",
   "metadata": {},
   "outputs": [
    {
     "data": {
      "text/plain": [
       "tensor(1)"
      ]
     },
     "execution_count": 21,
     "metadata": {},
     "output_type": "execute_result"
    }
   ],
   "source": [
    "# min\n",
    "a.min()"
   ]
  },
  {
   "cell_type": "code",
   "execution_count": 22,
   "id": "039586fd",
   "metadata": {},
   "outputs": [
    {
     "data": {
      "text/plain": [
       "(tensor(2.3340, dtype=torch.float16), tensor(2.3340, dtype=torch.float16))"
      ]
     },
     "execution_count": 22,
     "metadata": {},
     "output_type": "execute_result"
    }
   ],
   "source": [
    "# to get the mean we need float type\n",
    "torch.mean(a.type(torch.float16)), a.type(torch.float16).mean()"
   ]
  },
  {
   "cell_type": "code",
   "execution_count": 23,
   "id": "86af8232",
   "metadata": {},
   "outputs": [
    {
     "data": {
      "text/plain": [
       "tensor([[0.9325, 0.7086, 0.4639, 0.7003, 0.5913, 0.2466, 0.8547, 0.3211, 0.9524,\n",
       "         0.2946]])"
      ]
     },
     "execution_count": 23,
     "metadata": {},
     "output_type": "execute_result"
    }
   ],
   "source": [
    "# index position\n",
    "b=torch.rand(size=(1,10))\n",
    "b"
   ]
  },
  {
   "cell_type": "code",
   "execution_count": 24,
   "id": "f030ee74",
   "metadata": {},
   "outputs": [
    {
     "data": {
      "text/plain": [
       "(tensor(5), tensor(8))"
      ]
     },
     "execution_count": 24,
     "metadata": {},
     "output_type": "execute_result"
    }
   ],
   "source": [
    "b.argmin(),b.argmax()"
   ]
  },
  {
   "cell_type": "markdown",
   "id": "ba082158",
   "metadata": {},
   "source": [
    "## Reshaping, stacking, squeezing and unsqueezing"
   ]
  },
  {
   "cell_type": "code",
   "execution_count": 28,
   "id": "e2296247",
   "metadata": {},
   "outputs": [
    {
     "data": {
      "text/plain": [
       "(tensor([1., 2., 3., 4., 5., 6., 7., 8., 9.]), torch.Size([9]))"
      ]
     },
     "execution_count": 28,
     "metadata": {},
     "output_type": "execute_result"
    }
   ],
   "source": [
    "x=torch.arange(1.,10.)\n",
    "x, x.shape"
   ]
  },
  {
   "cell_type": "code",
   "execution_count": 46,
   "id": "950c5b3a",
   "metadata": {},
   "outputs": [
    {
     "data": {
      "text/plain": [
       "(tensor([[1., 2., 3., 4., 5., 6., 7., 8., 9.]]), torch.Size([1, 9]))"
      ]
     },
     "execution_count": 46,
     "metadata": {},
     "output_type": "execute_result"
    }
   ],
   "source": [
    "# reshape to compatible shape. Add one dimension with same size as original tensor. Two ways to do so:\n",
    "x_r = x.reshape(1,9)\n",
    "x_r = torch.reshape(x,(1,9))\n",
    "x_r, x_r.shape"
   ]
  },
  {
   "cell_type": "code",
   "execution_count": 32,
   "id": "2c2b7642",
   "metadata": {},
   "outputs": [
    {
     "data": {
      "text/plain": [
       "(tensor([[1., 2., 3., 4., 5., 6., 7., 8., 9.]]), torch.Size([1, 9]))"
      ]
     },
     "execution_count": 32,
     "metadata": {},
     "output_type": "execute_result"
    }
   ],
   "source": [
    "# Returns a view of the original tensor in a different shape but shares the same data as the original tensor.\n",
    "x_v = x.view(1,9)\n",
    "x_v, x_v.shape"
   ]
  },
  {
   "cell_type": "code",
   "execution_count": 35,
   "id": "55ca8d94",
   "metadata": {},
   "outputs": [
    {
     "data": {
      "text/plain": [
       "tensor([[1., 2., 3., 4., 5., 6., 7., 8., 9.],\n",
       "        [1., 2., 3., 4., 5., 6., 7., 8., 9.],\n",
       "        [1., 2., 3., 4., 5., 6., 7., 8., 9.],\n",
       "        [1., 2., 3., 4., 5., 6., 7., 8., 9.]])"
      ]
     },
     "execution_count": 35,
     "metadata": {},
     "output_type": "execute_result"
    }
   ],
   "source": [
    "# stack of tensors, like a concatenation\n",
    "x_stacked = torch.stack([x,x,x,x])\n",
    "x_stacked"
   ]
  },
  {
   "cell_type": "code",
   "execution_count": 43,
   "id": "68031003",
   "metadata": {},
   "outputs": [
    {
     "data": {
      "text/plain": [
       "(tensor([1., 2., 3., 4., 5., 6., 7., 8., 9.]), torch.Size([9]))"
      ]
     },
     "execution_count": 43,
     "metadata": {},
     "output_type": "execute_result"
    }
   ],
   "source": [
    "# squeeze to remove one dim\n",
    "z=x.squeeze()\n",
    "z, z.shape"
   ]
  },
  {
   "cell_type": "code",
   "execution_count": 49,
   "id": "866c1789",
   "metadata": {},
   "outputs": [
    {
     "data": {
      "text/plain": [
       "(tensor([[1.],\n",
       "         [2.],\n",
       "         [3.],\n",
       "         [4.],\n",
       "         [5.],\n",
       "         [6.],\n",
       "         [7.],\n",
       "         [8.],\n",
       "         [9.]]),\n",
       " torch.Size([9, 1]))"
      ]
     },
     "execution_count": 49,
     "metadata": {},
     "output_type": "execute_result"
    }
   ],
   "source": [
    "z=x.unsqueeze(dim=1)  # dim is between -2 and 1\n",
    "z, z.shape"
   ]
  },
  {
   "cell_type": "code",
   "execution_count": 55,
   "id": "8a537746",
   "metadata": {},
   "outputs": [
    {
     "name": "stdout",
     "output_type": "stream",
     "text": [
      "Previous shape: torch.Size([224, 224, 3])\n",
      "New shape: torch.Size([3, 224, 224])\n"
     ]
    }
   ],
   "source": [
    "# Permute dimensions (it returns a view)\n",
    "x_original = torch.rand(size=(224, 224, 3))\n",
    "\n",
    "# Permute the original tensor to rearrange the axis order\n",
    "x_permuted = x_original.permute(2, 0, 1) # shifts axis 0->1, 1->2, 2->0\n",
    "\n",
    "print(f\"Previous shape: {x_original.shape}\")\n",
    "print(f\"New shape: {x_permuted.shape}\")"
   ]
  },
  {
   "cell_type": "code",
   "execution_count": 77,
   "id": "e198891a",
   "metadata": {},
   "outputs": [
    {
     "name": "stdout",
     "output_type": "stream",
     "text": [
      "tensor([[[ 1,  2,  3,  4,  5],\n",
      "         [ 6,  7,  8,  9, 10],\n",
      "         [11, 12, 13, 14, 15]]]) torch.Size([1, 3, 5])\n",
      "tensor(1)\n",
      "tensor(6)\n",
      "tensor([ 6,  7,  8,  9, 10])\n",
      "tensor(15)\n"
     ]
    }
   ],
   "source": [
    "# indexing a tensor - uses the same as NumPy\n",
    "x=torch.arange(1,16).reshape(1,3,5)\n",
    "print(x,x.shape)\n",
    "\n",
    "print(x[0,0,0])\n",
    "print(x[0][1][0])\n",
    "print(x[0][:][1]) # : to get of a single dimension\n",
    "print(x[0,2,4])"
   ]
  },
  {
   "cell_type": "markdown",
   "id": "465e2131",
   "metadata": {},
   "source": [
    "## NumPy to Pytorch Tensor"
   ]
  },
  {
   "cell_type": "code",
   "execution_count": 79,
   "id": "715d8e04",
   "metadata": {},
   "outputs": [
    {
     "data": {
      "text/plain": [
       "(array([1., 2., 3., 4., 5., 6., 7.]),\n",
       " tensor([1., 2., 3., 4., 5., 6., 7.], dtype=torch.float64))"
      ]
     },
     "execution_count": 79,
     "metadata": {},
     "output_type": "execute_result"
    }
   ],
   "source": [
    "a = np.arange(1.0,8.0)  # type is float 64\n",
    "t = torch.from_numpy(a)\n",
    "a,t"
   ]
  },
  {
   "cell_type": "code",
   "execution_count": 81,
   "id": "81e75cf6",
   "metadata": {},
   "outputs": [
    {
     "data": {
      "text/plain": [
       "torch.float32"
      ]
     },
     "execution_count": 81,
     "metadata": {},
     "output_type": "execute_result"
    }
   ],
   "source": [
    "t =torch.from_numpy(a).type(torch.float32)\n",
    "t.dtype"
   ]
  },
  {
   "cell_type": "code",
   "execution_count": 84,
   "id": "8fb6b4d2",
   "metadata": {},
   "outputs": [
    {
     "data": {
      "text/plain": [
       "(array([2., 3., 4., 5., 6., 7., 8.], dtype=float32),\n",
       " tensor([3., 4., 5., 6., 7., 8., 9.]))"
      ]
     },
     "execution_count": 84,
     "metadata": {},
     "output_type": "execute_result"
    }
   ],
   "source": [
    "\n",
    "b=t.numpy()\n",
    "t=t+1\n",
    "b,t"
   ]
  },
  {
   "cell_type": "code",
   "execution_count": 87,
   "id": "f257aac5",
   "metadata": {},
   "outputs": [
    {
     "name": "stdout",
     "output_type": "stream",
     "text": [
      "tensor([1.], device='mps:0')\n"
     ]
    }
   ],
   "source": [
    "# Run on GPUs\n",
    "if torch.backends.mps.is_available():\n",
    "   mps_device = torch.device(\"mps\")\n",
    "   x = torch.ones(1, device=mps_device)\n",
    "   print (x)\n",
    "else:\n",
    "   print (\"MPS device not found.\")"
   ]
  },
  {
   "cell_type": "code",
   "execution_count": 89,
   "id": "50fed4e3",
   "metadata": {},
   "outputs": [
    {
     "name": "stdout",
     "output_type": "stream",
     "text": [
      "GPU Time:  0.5641310214996338\n"
     ]
    }
   ],
   "source": [
    "import time\n",
    "start_time = time.time()\n",
    "\n",
    "# syncrocnize time with cpu, otherwise only time for oflaoding data to gpu would be measured\n",
    "torch.mps.synchronize()\n",
    "\n",
    "a = torch.ones(4000,4000, device=\"mps\")\n",
    "for _ in range(200):\n",
    "   a +=a\n",
    "\n",
    "elapsed_time = time.time() - start_time\n",
    "print( \"GPU Time: \", elapsed_time)"
   ]
  },
  {
   "cell_type": "code",
   "execution_count": 92,
   "id": "c29b559f",
   "metadata": {},
   "outputs": [
    {
     "data": {
      "text/plain": [
       "(tensor([[0.3885, 0.8617, 0.8685, 0.1506, 0.6697, 0.4213, 0.8585],\n",
       "         [0.3847, 0.3596, 0.5139, 0.4218, 0.7892, 0.2825, 0.4766],\n",
       "         [0.3784, 0.1834, 0.5558, 0.4238, 0.1246, 0.2212, 0.0377],\n",
       "         [0.0377, 0.8175, 0.3430, 0.6210, 0.8896, 0.2128, 0.6732],\n",
       "         [0.7269, 0.0581, 0.9083, 0.0258, 0.1281, 0.6161, 0.3876],\n",
       "         [0.9179, 0.9741, 0.5860, 0.1795, 0.4625, 0.2965, 0.4824],\n",
       "         [0.8445, 0.6060, 0.0409, 0.9720, 0.0958, 0.2600, 0.9514]]),\n",
       " torch.Size([7, 7]))"
      ]
     },
     "execution_count": 92,
     "metadata": {},
     "output_type": "execute_result"
    }
   ],
   "source": [
    "# Exercise 1: random tensor shape 7,7\n",
    "t= torch.rand([7,7])\n",
    "t,t.shape"
   ]
  },
  {
   "cell_type": "code",
   "execution_count": 96,
   "id": "c1e3cbfb",
   "metadata": {},
   "outputs": [
    {
     "data": {
      "text/plain": [
       "tensor([[0.3885, 1.7234, 2.6056, 0.6025, 3.3487, 2.5278, 6.0097],\n",
       "        [0.3847, 0.7191, 1.5416, 1.6872, 3.9460, 1.6948, 3.3359],\n",
       "        [0.3784, 0.3669, 1.6675, 1.6950, 0.6232, 1.3274, 0.2641],\n",
       "        [0.0377, 1.6351, 1.0289, 2.4842, 4.4480, 1.2768, 4.7127],\n",
       "        [0.7269, 0.1163, 2.7250, 0.1031, 0.6407, 3.6966, 2.7135],\n",
       "        [0.9179, 1.9483, 1.7581, 0.7178, 2.3123, 1.7792, 3.3768],\n",
       "        [0.8445, 1.2120, 0.1226, 3.8880, 0.4789, 1.5598, 6.6597]])"
      ]
     },
     "execution_count": 96,
     "metadata": {},
     "output_type": "execute_result"
    }
   ],
   "source": [
    "# multiple by another tensor shape 1,7\n",
    "t2=torch.arange(1,8)\n",
    "t*t2"
   ]
  },
  {
   "cell_type": "code",
   "execution_count": 103,
   "id": "dd9b9f35",
   "metadata": {},
   "outputs": [
    {
     "data": {
      "text/plain": [
       "tensor([[1.8542],\n",
       "        [1.9611],\n",
       "        [2.2884],\n",
       "        [3.0481],\n",
       "        [1.7067],\n",
       "        [2.5290],\n",
       "        [1.7989]])"
      ]
     },
     "execution_count": 103,
     "metadata": {},
     "output_type": "execute_result"
    }
   ],
   "source": [
    "# Set the random seed to 0 and do 2 & 3 over again\n",
    "RANDOM_SEED=0\n",
    "torch.manual_seed(seed=RANDOM_SEED)\n",
    "t1=torch.rand([7,7])\n",
    "t2=torch.rand([1,7]).T\n",
    "t1.matmul(t2)"
   ]
  },
  {
   "cell_type": "code",
   "execution_count": null,
   "id": "effc5b1e",
   "metadata": {},
   "outputs": [],
   "source": [
    "# multiple on GPU"
   ]
  },
  {
   "cell_type": "code",
   "execution_count": 111,
   "id": "7856a208",
   "metadata": {},
   "outputs": [
    {
     "data": {
      "text/plain": [
       "tensor([[0.9868, 1.7565],\n",
       "        [0.6685, 1.2782]], device='mps:0')"
      ]
     },
     "execution_count": 111,
     "metadata": {},
     "output_type": "execute_result"
    }
   ],
   "source": [
    "t1=torch.mps.manual_seed(seed=1234)\n",
    "mps_device = torch.device(\"mps\")\n",
    "t1=torch.rand([2,3],device=mps_device)\n",
    "t2=torch.rand([2,3],device=mps_device).T\n",
    "t3=t1.matmul(t2)\n",
    "t3"
   ]
  },
  {
   "cell_type": "code",
   "execution_count": 112,
   "id": "358909b2",
   "metadata": {},
   "outputs": [
    {
     "data": {
      "text/plain": [
       "(tensor(0.6685, device='mps:0'), tensor(1.7565, device='mps:0'))"
      ]
     },
     "execution_count": 112,
     "metadata": {},
     "output_type": "execute_result"
    }
   ],
   "source": [
    "torch.min(t3),torch.max(t3)"
   ]
  },
  {
   "cell_type": "code",
   "execution_count": 113,
   "id": "2639883e",
   "metadata": {},
   "outputs": [
    {
     "data": {
      "text/plain": [
       "(tensor(2, device='mps:0'), tensor(1, device='mps:0'))"
      ]
     },
     "execution_count": 113,
     "metadata": {},
     "output_type": "execute_result"
    }
   ],
   "source": [
    "torch.argmin(t3),torch.argmax(t3)"
   ]
  },
  {
   "cell_type": "code",
   "execution_count": 123,
   "id": "fc83ca30",
   "metadata": {},
   "outputs": [
    {
     "data": {
      "text/plain": [
       "(tensor([[[[0.5349, 0.1988, 0.6592, 0.6569, 0.2328, 0.4251, 0.2071, 0.6297,\n",
       "            0.3653, 0.8513]]]]),\n",
       " torch.Size([1, 1, 1, 10]))"
      ]
     },
     "execution_count": 123,
     "metadata": {},
     "output_type": "execute_result"
    }
   ],
   "source": [
    "t1=torch.manual_seed(seed=7)\n",
    "t1=torch.rand([1,1,1,10])\n",
    "t1,t1.shape\n"
   ]
  },
  {
   "cell_type": "code",
   "execution_count": 130,
   "id": "2ba00af1",
   "metadata": {},
   "outputs": [
    {
     "data": {
      "text/plain": [
       "(tensor([0.5349, 0.1988, 0.6592, 0.6569, 0.2328, 0.4251, 0.2071, 0.6297, 0.3653,\n",
       "         0.8513]),\n",
       " torch.Size([10]))"
      ]
     },
     "execution_count": 130,
     "metadata": {},
     "output_type": "execute_result"
    }
   ],
   "source": [
    "t2=t1.squeeze()\n",
    "t2,t2.shape"
   ]
  },
  {
   "cell_type": "code",
   "execution_count": null,
   "id": "1d641ada",
   "metadata": {},
   "outputs": [],
   "source": []
  }
 ],
 "metadata": {
  "kernelspec": {
   "display_name": "Python 3.9 (pytorch)",
   "language": "python",
   "name": "pytorch"
  },
  "language_info": {
   "codemirror_mode": {
    "name": "ipython",
    "version": 3
   },
   "file_extension": ".py",
   "mimetype": "text/x-python",
   "name": "python",
   "nbconvert_exporter": "python",
   "pygments_lexer": "ipython3",
   "version": "3.11.4"
  }
 },
 "nbformat": 4,
 "nbformat_minor": 5
}
