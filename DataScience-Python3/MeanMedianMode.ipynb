{
 "cells": [
  {
   "cell_type": "markdown",
   "metadata": {
    "deletable": true,
    "editable": true
   },
   "source": [
    "# Mean, Median, Mode, and introducing NumPy"
   ]
  },
  {
   "cell_type": "markdown",
   "metadata": {
    "deletable": true,
    "editable": true
   },
   "source": [
    "## Mean vs. Median"
   ]
  },
  {
   "cell_type": "markdown",
   "metadata": {
    "deletable": true,
    "editable": true
   },
   "source": [
    "Let's create some fake income data, centered around 27,000 with a normal distribution and standard deviation of 15,000, with 10,000 data points. (We'll discuss those terms more later, if you're not familiar with them.)\n",
    "\n",
    "Then, compute the mean (average) - it should be close to 27,000:"
   ]
  },
  {
   "cell_type": "code",
   "execution_count": 1,
   "metadata": {
    "collapsed": false,
    "deletable": true,
    "editable": true
   },
   "outputs": [
    {
     "data": {
      "text/plain": [
       "27033.851300974649"
      ]
     },
     "execution_count": 1,
     "metadata": {},
     "output_type": "execute_result"
    }
   ],
   "source": [
    "import numpy as np\n",
    "\n",
    "incomes = np.random.normal(27000, 15000, 10000)\n",
    "np.mean(incomes)"
   ]
  },
  {
   "cell_type": "markdown",
   "metadata": {
    "deletable": true,
    "editable": true
   },
   "source": [
    "We can segment the income data into 50 buckets, and plot it as a histogram:"
   ]
  },
  {
   "cell_type": "code",
   "execution_count": 2,
   "metadata": {
    "collapsed": false,
    "deletable": true,
    "editable": true
   },
   "outputs": [
    {
     "data": {
      "image/png": "[encoded data removed]",
      "text/plain": [
       "<matplotlib.figure.Figure at 0x108da1ba8>"
      ]
     },
     "metadata": {},
     "output_type": "display_data"
    }
   ],
   "source": [
    "%matplotlib inline\n",
    "import matplotlib.pyplot as plt\n",
    "plt.hist(incomes, 50)\n",
    "plt.show()"
   ]
  },
  {
   "cell_type": "markdown",
   "metadata": {
    "deletable": true,
    "editable": true
   },
   "source": [
    "Now compute the median - since we have a nice, even distribution it too should be close to 27,000:"
   ]
  },
  {
   "cell_type": "code",
   "execution_count": 3,
   "metadata": {
    "collapsed": false,
    "deletable": true,
    "editable": true
   },
   "outputs": [
    {
     "data": {
      "text/plain": [
       "26885.081659810225"
      ]
     },
     "execution_count": 3,
     "metadata": {},
     "output_type": "execute_result"
    }
   ],
   "source": [
    "np.median(incomes)"
   ]
  },
  {
   "cell_type": "markdown",
   "metadata": {
    "deletable": true,
    "editable": true
   },
   "source": [
    "Now we'll add Donald Trump into the mix. Darn income inequality!"
   ]
  },
  {
   "cell_type": "code",
   "execution_count": 4,
   "metadata": {
    "collapsed": false,
    "deletable": true,
    "editable": true
   },
   "outputs": [],
   "source": [
    "incomes = np.append(incomes, [1000000000])"
   ]
  },
  {
   "cell_type": "markdown",
   "metadata": {
    "deletable": true,
    "editable": true
   },
   "source": [
    "The median won't change much, but the mean does:"
   ]
  },
  {
   "cell_type": "code",
   "execution_count": 5,
   "metadata": {
    "collapsed": false,
    "deletable": true,
    "editable": true
   },
   "outputs": [
    {
     "data": {
      "text/plain": [
       "26887.522217931324"
      ]
     },
     "execution_count": 5,
     "metadata": {},
     "output_type": "execute_result"
    }
   ],
   "source": [
    "np.median(incomes)"
   ]
  },
  {
   "cell_type": "code",
   "execution_count": 6,
   "metadata": {
    "collapsed": false,
    "deletable": true,
    "editable": true
   },
   "outputs": [
    {
     "data": {
      "text/plain": [
       "127021.14918605605"
      ]
     },
     "execution_count": 6,
     "metadata": {},
     "output_type": "execute_result"
    }
   ],
   "source": [
    "np.mean(incomes)"
   ]
  },
  {
   "cell_type": "markdown",
   "metadata": {
    "deletable": true,
    "editable": true
   },
   "source": [
    "## Mode"
   ]
  },
  {
   "cell_type": "markdown",
   "metadata": {
    "deletable": true,
    "editable": true
   },
   "source": [
    "Next, let's generate some fake age data for 500 people:"
   ]
  },
  {
   "cell_type": "code",
   "execution_count": 7,
   "metadata": {
    "collapsed": false,
    "deletable": true,
    "editable": true
   },
   "outputs": [
    {
     "data": {
      "text/plain": [
       "array([67, 24, 26, 76, 77, 48, 43, 41, 79, 40, 60, 64, 76, 89, 24, 64, 87,\n",
       "       64, 89, 51, 59, 76, 21, 32, 69, 22, 22, 70, 35, 81, 58, 39, 78, 64,\n",
       "       73, 83, 27, 57, 36, 33, 51, 71, 82, 80, 46, 25, 80, 80, 31, 68, 83,\n",
       "       66, 65, 38, 55, 30, 19, 57, 74, 49, 50, 47, 25, 24, 71, 70, 54, 79,\n",
       "       70, 42, 69, 44, 80, 79, 21, 85, 40, 72, 48, 75, 89, 63, 34, 72, 37,\n",
       "       32, 63, 86, 38, 22, 46, 22, 25, 86, 67, 81, 42, 70, 51, 27, 23, 61,\n",
       "       49, 38, 60, 82, 27, 37, 57, 87, 86, 83, 26, 73, 52, 48, 56, 29, 50,\n",
       "       19, 66, 38, 61, 39, 46, 62, 80, 47, 87, 72, 55, 88, 77, 61, 78, 31,\n",
       "       65, 79, 81, 84, 59, 44, 37, 69, 74, 51, 21, 53, 36, 88, 28, 44, 51,\n",
       "       35, 63, 30, 50, 45, 60, 49, 88, 37, 30, 85, 72, 77, 41, 66, 71, 63,\n",
       "       52, 21, 46, 37, 21, 36, 42, 74, 57, 57, 53, 26, 32, 20, 29, 65, 75,\n",
       "       76, 39, 47, 37, 71, 36, 30, 23, 68, 33, 68, 57, 81, 42, 42, 21, 53,\n",
       "       51, 49, 31, 29, 28, 62, 44, 37, 30, 85, 43, 80, 65, 23, 75, 80, 37,\n",
       "       63, 49, 49, 57, 75, 32, 23, 60, 58, 72, 46, 22, 58, 31, 71, 45, 59,\n",
       "       26, 36, 32, 45, 86, 26, 43, 62, 41, 29, 56, 27, 32, 78, 68, 27, 79,\n",
       "       27, 21, 50, 56, 83, 18, 69, 40, 76, 53, 48, 89, 26, 33, 86, 75, 49,\n",
       "       36, 18, 34, 40, 56, 75, 33, 26, 71, 39, 68, 71, 40, 30, 40, 64, 80,\n",
       "       54, 88, 46, 35, 42, 67, 84, 19, 24, 84, 20, 20, 57, 61, 21, 37, 89,\n",
       "       35, 79, 55, 62, 49, 52, 72, 30, 86, 81, 68, 46, 89, 84, 57, 35, 54,\n",
       "       36, 43, 87, 30, 77, 40, 59, 62, 53, 50, 19, 25, 36, 85, 66, 28, 48,\n",
       "       59, 43, 26, 60, 60, 36, 51, 36, 42, 56, 78, 28, 30, 36, 33, 78, 25,\n",
       "       24, 73, 66, 58, 36, 37, 73, 58, 22, 86, 85, 74, 73, 76, 64, 64, 75,\n",
       "       75, 37, 54, 35, 49, 45, 73, 33, 20, 69, 64, 58, 28, 29, 70, 68, 49,\n",
       "       45, 52, 53, 79, 38, 34, 48, 29, 18, 61, 23, 49, 50, 77, 23, 68, 82,\n",
       "       32, 60, 58, 54, 31, 31, 57, 76, 40, 48, 79, 65, 84, 41, 29, 88, 63,\n",
       "       73, 70, 48, 68, 69, 62, 80, 67, 55, 21, 60, 21, 88, 33, 25, 32, 76,\n",
       "       76, 49, 40, 65, 52, 27, 50, 86, 75, 27, 59, 48, 61, 69, 30, 56, 53,\n",
       "       79, 18, 80, 42, 70, 66, 66, 25, 42, 74, 57, 79, 71, 82, 42, 65, 38,\n",
       "       38, 46, 28, 42, 41, 77, 78, 80, 48, 66, 75, 76, 71, 45, 18, 76, 47,\n",
       "       83, 49, 54, 28, 36, 39, 39])"
      ]
     },
     "execution_count": 7,
     "metadata": {},
     "output_type": "execute_result"
    }
   ],
   "source": [
    "ages = np.random.randint(18, high=90, size=500)\n",
    "ages"
   ]
  },
  {
   "cell_type": "code",
   "execution_count": 8,
   "metadata": {
    "collapsed": false,
    "deletable": true,
    "editable": true
   },
   "outputs": [
    {
     "data": {
      "text/plain": [
       "ModeResult(mode=array([85]), count=array([13]))"
      ]
     },
     "execution_count": 8,
     "metadata": {},
     "output_type": "execute_result"
    }
   ],
   "source": [
    "from scipy import stats\n",
    "stats.mode(ages)"
   ]
  },
  {
   "cell_type": "code",
   "execution_count": null,
   "metadata": {
    "collapsed": false,
    "deletable": true,
    "editable": true
   },
   "outputs": [],
   "source": []
  }
 ],
 "metadata": {
  "kernelspec": {
   "display_name": "Python 3",
   "language": "python",
   "name": "python3"
  },
  "language_info": {
   "codemirror_mode": {
    "name": "ipython",
    "version": 3
   },
   "file_extension": ".py",
   "mimetype": "text/x-python",
   "name": "python",
   "nbconvert_exporter": "python",
   "pygments_lexer": "ipython3",
   "version": "3.5.2"
  }
 },
 "nbformat": 4,
 "nbformat_minor": 0
}
