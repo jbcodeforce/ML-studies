{
 "cells": [
  {
   "cell_type": "code",
   "execution_count": 1,
   "id": "3e0a5b32",
   "metadata": {},
   "outputs": [],
   "source": [
    "import torch\n",
    "import pandas as pd\n",
    "import matplotlib as plt\n",
    "import numpy as np"
   ]
  },
  {
   "cell_type": "code",
   "execution_count": 2,
   "id": "ae4f6997",
   "metadata": {},
   "outputs": [
    {
     "name": "stdout",
     "output_type": "stream",
     "text": [
      "2.1.0.post100\n"
     ]
    }
   ],
   "source": [
    "print(torch.__version__)"
   ]
  },
  {
   "cell_type": "markdown",
   "id": "c13fe438",
   "metadata": {},
   "source": [
    "## Create a Tensor\n",
    "\n",
    "a multi-dimensional matrix containing elements of a single data type.\n",
    "\n",
    "See [tensor product doc.](https://pytorch.org/docs/stable/tensors.html)"
   ]
  },
  {
   "cell_type": "code",
   "execution_count": 3,
   "id": "d574d163",
   "metadata": {},
   "outputs": [
    {
     "data": {
      "text/plain": [
       "7"
      ]
     },
     "execution_count": 3,
     "metadata": {},
     "output_type": "execute_result"
    }
   ],
   "source": [
    "scalar = torch.tensor(7)\n",
    "scalar.ndim\n",
    "scalar.item()"
   ]
  },
  {
   "cell_type": "code",
   "execution_count": 4,
   "id": "6aecda8e",
   "metadata": {},
   "outputs": [
    {
     "data": {
      "text/plain": [
       "torch.Size([2])"
      ]
     },
     "execution_count": 4,
     "metadata": {},
     "output_type": "execute_result"
    }
   ],
   "source": [
    "vector= torch.tensor([3,4])\n",
    "vector.ndim\n",
    "vector.shape"
   ]
  },
  {
   "cell_type": "code",
   "execution_count": 5,
   "id": "a2157b84",
   "metadata": {},
   "outputs": [
    {
     "data": {
      "text/plain": [
       "torch.Size([2, 2])"
      ]
     },
     "execution_count": 5,
     "metadata": {},
     "output_type": "execute_result"
    }
   ],
   "source": [
    "matrix=torch.tensor([[3,4],[2,9]])\n",
    "matrix.ndim\n",
    "matrix.shape"
   ]
  },
  {
   "cell_type": "code",
   "execution_count": 6,
   "id": "0520742c",
   "metadata": {},
   "outputs": [
    {
     "data": {
      "text/plain": [
       "torch.Size([1, 3, 3])"
      ]
     },
     "execution_count": 6,
     "metadata": {},
     "output_type": "execute_result"
    }
   ],
   "source": [
    "t=torch.tensor([[[1,2,3],[6,7,8],[9,0,1]]])\n",
    "t.shape"
   ]
  },
  {
   "cell_type": "code",
   "execution_count": 7,
   "id": "2c72c84f",
   "metadata": {},
   "outputs": [
    {
     "data": {
      "text/plain": [
       "tensor([[0.6289, 0.9684, 0.1055, 0.6834, 0.8477],\n",
       "        [0.9838, 0.7761, 0.6251, 0.4676, 0.9500],\n",
       "        [0.6978, 0.0770, 0.3767, 0.2512, 0.5455]])"
      ]
     },
     "execution_count": 7,
     "metadata": {},
     "output_type": "execute_result"
    }
   ],
   "source": [
    "t=torch.rand(3,5)\n",
    "t"
   ]
  },
  {
   "cell_type": "markdown",
   "id": "e7f38ece",
   "metadata": {},
   "source": [
    "### Create a random tensor of an image"
   ]
  },
  {
   "cell_type": "code",
   "execution_count": 8,
   "id": "34f09b0a",
   "metadata": {},
   "outputs": [
    {
     "data": {
      "text/plain": [
       "tensor([[[0.0617, 0.3622, 0.6623],\n",
       "         [0.6535, 0.5442, 0.2277],\n",
       "         [0.0625, 0.1328, 0.3120],\n",
       "         ...,\n",
       "         [0.4195, 0.5974, 0.9434],\n",
       "         [0.5845, 0.1131, 0.9866],\n",
       "         [0.0022, 0.0235, 0.9700]],\n",
       "\n",
       "        [[0.1797, 0.5300, 0.4461],\n",
       "         [0.5466, 0.7143, 0.0895],\n",
       "         [0.4389, 0.0614, 0.2932],\n",
       "         ...,\n",
       "         [0.5349, 0.4867, 0.2012],\n",
       "         [0.3910, 0.1347, 0.2676],\n",
       "         [0.9820, 0.8290, 0.7307]],\n",
       "\n",
       "        [[0.8865, 0.7992, 0.8803],\n",
       "         [0.5898, 0.9005, 0.5529],\n",
       "         [0.0164, 0.8587, 0.5098],\n",
       "         ...,\n",
       "         [0.3973, 0.5512, 0.5129],\n",
       "         [0.1416, 0.6074, 0.7414],\n",
       "         [0.2460, 0.9973, 0.7144]],\n",
       "\n",
       "        ...,\n",
       "\n",
       "        [[0.1235, 0.1150, 0.0198],\n",
       "         [0.6394, 0.6734, 0.9931],\n",
       "         [0.1777, 0.2758, 0.1070],\n",
       "         ...,\n",
       "         [0.6815, 0.9810, 0.3218],\n",
       "         [0.8851, 0.5549, 0.1551],\n",
       "         [0.5234, 0.9459, 0.0925]],\n",
       "\n",
       "        [[0.0761, 0.2403, 0.1221],\n",
       "         [0.3970, 0.0178, 0.9707],\n",
       "         [0.6162, 0.7696, 0.5026],\n",
       "         ...,\n",
       "         [0.2277, 0.6708, 0.8200],\n",
       "         [0.5908, 0.7359, 0.9279],\n",
       "         [0.6742, 0.1292, 0.6063]],\n",
       "\n",
       "        [[0.5314, 0.1717, 0.6155],\n",
       "         [0.8988, 0.5449, 0.3395],\n",
       "         [0.9837, 0.3358, 0.5660],\n",
       "         ...,\n",
       "         [0.6316, 0.7367, 0.0022],\n",
       "         [0.0944, 0.5590, 0.1000],\n",
       "         [0.4656, 0.2980, 0.7635]]])"
      ]
     },
     "execution_count": 8,
     "metadata": {},
     "output_type": "execute_result"
    }
   ],
   "source": [
    "t_i = torch.rand(size=(224,224,3)) # height, width, color channels(RGB)\n",
    "t_i"
   ]
  },
  {
   "cell_type": "code",
   "execution_count": 9,
   "id": "e00b182c",
   "metadata": {},
   "outputs": [],
   "source": [
    "zeros = torch.zeros(size=(2,3))\n",
    "zeros\n",
    "ones= torch.ones(2,3)"
   ]
  },
  {
   "cell_type": "code",
   "execution_count": 10,
   "id": "6c1b5924",
   "metadata": {},
   "outputs": [
    {
     "data": {
      "text/plain": [
       "tensor([[0., 0., 0.],\n",
       "        [0., 0., 0.]])"
      ]
     },
     "execution_count": 10,
     "metadata": {},
     "output_type": "execute_result"
    }
   ],
   "source": [
    "ones*zeros\n"
   ]
  },
  {
   "cell_type": "markdown",
   "id": "6b41856e",
   "metadata": {},
   "source": [
    "### Range of values"
   ]
  },
  {
   "cell_type": "code",
   "execution_count": 11,
   "id": "7d12cf8f",
   "metadata": {},
   "outputs": [
    {
     "data": {
      "text/plain": [
       "tensor([ 1,  2,  3,  4,  5,  6,  7,  8,  9, 10])"
      ]
     },
     "execution_count": 11,
     "metadata": {},
     "output_type": "execute_result"
    }
   ],
   "source": [
    "t=torch.arange(1,11)\n",
    "t\n"
   ]
  },
  {
   "cell_type": "code",
   "execution_count": 12,
   "id": "e6b8f72a",
   "metadata": {},
   "outputs": [
    {
     "data": {
      "text/plain": [
       "tensor([  0,  77, 154, 231, 308, 385, 462, 539, 616, 693, 770, 847, 924])"
      ]
     },
     "execution_count": 12,
     "metadata": {},
     "output_type": "execute_result"
    }
   ],
   "source": [
    "torch.arange(start=0, end=1000,step=77)\n"
   ]
  },
  {
   "cell_type": "code",
   "execution_count": 13,
   "id": "e0baae31",
   "metadata": {},
   "outputs": [
    {
     "data": {
      "text/plain": [
       "torch.float16"
      ]
     },
     "execution_count": 13,
     "metadata": {},
     "output_type": "execute_result"
    }
   ],
   "source": [
    "t=torch.tensor([[[1,2,3],[6,7,8],[9,0,1]]], dtype=torch.float16,device=\"cpu\")\n",
    "t.dtype"
   ]
  },
  {
   "cell_type": "code",
   "execution_count": 15,
   "id": "10604c3b",
   "metadata": {},
   "outputs": [
    {
     "data": {
      "text/plain": [
       "torch.float32"
      ]
     },
     "execution_count": 15,
     "metadata": {},
     "output_type": "execute_result"
    }
   ],
   "source": [
    "b=torch.tensor([[[1.,2.,3.],[6.,7.,8.],[9.,0,1.]]])\n",
    "b.dtype"
   ]
  },
  {
   "cell_type": "code",
   "execution_count": 16,
   "id": "ac3b3567",
   "metadata": {},
   "outputs": [
    {
     "data": {
      "text/plain": [
       "tensor([[[ 1.,  4.,  9.],\n",
       "         [36., 49., 64.],\n",
       "         [81.,  0.,  1.]]])"
      ]
     },
     "execution_count": 16,
     "metadata": {},
     "output_type": "execute_result"
    }
   ],
   "source": [
    "b*t"
   ]
  },
  {
   "cell_type": "code",
   "execution_count": 18,
   "id": "564f43b7",
   "metadata": {},
   "outputs": [
    {
     "data": {
      "text/plain": [
       "tensor([[[11., 12., 13.],\n",
       "         [16., 17., 18.],\n",
       "         [19., 10., 11.]]], dtype=torch.float16)"
      ]
     },
     "execution_count": 18,
     "metadata": {},
     "output_type": "execute_result"
    }
   ],
   "source": [
    "# Addition\n",
    "t + 10\n"
   ]
  },
  {
   "cell_type": "code",
   "execution_count": 19,
   "id": "01eba540",
   "metadata": {},
   "outputs": [
    {
     "data": {
      "text/plain": [
       "tensor([[[ 2.,  4.,  6.],\n",
       "         [12., 14., 16.],\n",
       "         [18.,  0.,  2.]]], dtype=torch.float16)"
      ]
     },
     "execution_count": 19,
     "metadata": {},
     "output_type": "execute_result"
    }
   ],
   "source": [
    "# multiple by\n",
    "t * 2"
   ]
  },
  {
   "cell_type": "code",
   "execution_count": 25,
   "id": "8c9984dc",
   "metadata": {},
   "outputs": [
    {
     "name": "stderr",
     "output_type": "stream",
     "text": [
      "UsageError: Line magic function `%%time` not found.\n"
     ]
    }
   ],
   "source": [
    "# Matrix multiplication: inner dimensions need to match, and the new result dimensions = outter dimension\n",
    "\n",
    "a=torch.tensor([[2,3,4],[1,1,3]])\n",
    "b=torch.tensor([[2,3],[1,1],[3,3]])\n",
    "a.matmul(b)"
   ]
  },
  {
   "cell_type": "code",
   "execution_count": 27,
   "id": "b4b5613e",
   "metadata": {},
   "outputs": [
    {
     "data": {
      "text/plain": [
       "tensor([[2, 3, 4],\n",
       "        [1, 1, 3]])"
      ]
     },
     "execution_count": 27,
     "metadata": {},
     "output_type": "execute_result"
    }
   ],
   "source": [
    "# Transpose to change the shape\n",
    "a"
   ]
  },
  {
   "cell_type": "code",
   "execution_count": 28,
   "id": "d87d2820",
   "metadata": {},
   "outputs": [
    {
     "data": {
      "text/plain": [
       "tensor([[2, 1],\n",
       "        [3, 1],\n",
       "        [4, 3]])"
      ]
     },
     "execution_count": 28,
     "metadata": {},
     "output_type": "execute_result"
    }
   ],
   "source": [
    "a.T"
   ]
  },
  {
   "cell_type": "code",
   "execution_count": 30,
   "id": "764dcdba",
   "metadata": {},
   "outputs": [
    {
     "data": {
      "text/plain": [
       "tensor(1)"
      ]
     },
     "execution_count": 30,
     "metadata": {},
     "output_type": "execute_result"
    }
   ],
   "source": [
    "# min\n",
    "a.min()"
   ]
  },
  {
   "cell_type": "code",
   "execution_count": 35,
   "id": "039586fd",
   "metadata": {},
   "outputs": [
    {
     "data": {
      "text/plain": [
       "(tensor(2.3340, dtype=torch.float16), tensor(2.3340, dtype=torch.float16))"
      ]
     },
     "execution_count": 35,
     "metadata": {},
     "output_type": "execute_result"
    }
   ],
   "source": [
    "# to get the mean we need float type\n",
    "torch.mean(a.type(torch.float16)), a.type(torch.float16).mean()"
   ]
  },
  {
   "cell_type": "code",
   "execution_count": 37,
   "id": "86af8232",
   "metadata": {},
   "outputs": [
    {
     "data": {
      "text/plain": [
       "tensor([[0.1535, 0.6610, 0.7830, 0.0669, 0.5836, 0.7432, 0.7166, 0.8276, 0.7303,\n",
       "         0.1960]])"
      ]
     },
     "execution_count": 37,
     "metadata": {},
     "output_type": "execute_result"
    }
   ],
   "source": [
    "# index position\n",
    "b=torch.rand(size=(1,10))\n",
    "b"
   ]
  },
  {
   "cell_type": "code",
   "execution_count": 38,
   "id": "f030ee74",
   "metadata": {},
   "outputs": [
    {
     "data": {
      "text/plain": [
       "(tensor(3), tensor(7))"
      ]
     },
     "execution_count": 38,
     "metadata": {},
     "output_type": "execute_result"
    }
   ],
   "source": [
    "b.argmin(),b.argmax()"
   ]
  },
  {
   "cell_type": "code",
   "execution_count": null,
   "id": "5d8b596e",
   "metadata": {},
   "outputs": [],
   "source": []
  }
 ],
 "metadata": {
  "kernelspec": {
   "display_name": "Python 3.9 (pytorch)",
   "language": "python",
   "name": "pytorch"
  },
  "language_info": {
   "codemirror_mode": {
    "name": "ipython",
    "version": 3
   },
   "file_extension": ".py",
   "mimetype": "text/x-python",
   "name": "python",
   "nbconvert_exporter": "python",
   "pygments_lexer": "ipython3",
   "version": "3.11.4"
  }
 },
 "nbformat": 4,
 "nbformat_minor": 5
}
