{
 "cells": [
  {
   "cell_type": "code",
   "execution_count": 4,
   "id": "7251ff4c",
   "metadata": {},
   "outputs": [
    {
     "name": "stdout",
     "output_type": "stream",
     "text": [
      "Retrieving notices: ...working... done\n",
      "Collecting package metadata (current_repodata.json): done\n",
      "Solving environment: done\n",
      "\n",
      "## Package Plan ##\n",
      "\n",
      "  environment location: /Users/boyerje/miniconda3/envs/torch\n",
      "\n",
      "  added / updated specs:\n",
      "    - datasets\n",
      "    - transformers\n",
      "\n",
      "\n",
      "The following packages will be downloaded:\n",
      "\n",
      "    package                    |            build\n",
      "    ---------------------------|-----------------\n",
      "    abseil-cpp-20211102.0      |       hc377ac9_0         933 KB\n",
      "    aiohttp-3.8.5              |  py311h80987f9_0         558 KB\n",
      "    aiosignal-1.2.0            |     pyhd3eb1b0_0          12 KB\n",
      "    arrow-cpp-11.0.0           |       hc7aafb3_2         6.7 MB\n",
      "    async-timeout-4.0.2        |  py311hca03da5_0          14 KB\n",
      "    aws-c-common-0.6.8         |       h80987f9_1         156 KB\n",
      "    aws-c-event-stream-0.1.6   |       h313beb8_6          24 KB\n",
      "    aws-checksums-0.1.11       |       h80987f9_2          48 KB\n",
      "    aws-sdk-cpp-1.8.185        |       ha71a6ea_1         1.8 MB\n",
      "    boost-cpp-1.82.0           |       h48ca7d4_1          12 KB\n",
      "    c-ares-1.19.1              |       h80987f9_0         106 KB\n",
      "    datasets-2.12.0            |  py311hca03da5_0         875 KB\n",
      "    dill-0.3.6                 |  py311hca03da5_0         214 KB\n",
      "    frozenlist-1.3.3           |  py311h80987f9_0          38 KB\n",
      "    fsspec-2023.4.0            |  py311hca03da5_0         315 KB\n",
      "    gflags-2.2.2               |       hc377ac9_0         108 KB\n",
      "    glog-0.5.0                 |       hc377ac9_0          84 KB\n",
      "    grpc-cpp-1.48.2            |       hc60591f_1         3.0 MB\n",
      "    huggingface_hub-0.15.1     |  py311hca03da5_0         381 KB\n",
      "    importlib-metadata-6.0.0   |  py311hca03da5_0          49 KB\n",
      "    libboost-1.82.0            |       hdbf59fe_1        18.1 MB\n",
      "    libcurl-8.2.1              |       h3e2b118_0         345 KB\n",
      "    libevent-2.1.12            |       h02f6b3c_1         391 KB\n",
      "    libthrift-0.15.0           |       h73c2103_2         333 KB\n",
      "    multidict-6.0.2            |  py311h80987f9_0          50 KB\n",
      "    multiprocess-0.70.14       |  py311hca03da5_0         322 KB\n",
      "    orc-1.7.4                  |       hdca1487_1         388 KB\n",
      "    pyarrow-11.0.0             |  py311h7575258_1         3.7 MB\n",
      "    python-xxhash-2.0.2        |  py311h80987f9_1          20 KB\n",
      "    re2-2022.04.01             |       hc377ac9_0         165 KB\n",
      "    regex-2022.7.9             |  py311h80987f9_0         355 KB\n",
      "    responses-0.13.3           |     pyhd3eb1b0_0          24 KB\n",
      "    safetensors-0.3.2          |  py311hf0e4da2_0         389 KB\n",
      "    snappy-1.1.9               |       hc377ac9_0         950 KB\n",
      "    tokenizers-0.13.2          |  py311h3dd52b7_1         2.9 MB\n",
      "    transformers-4.32.1        |  py311hca03da5_0         8.8 MB\n",
      "    utf8proc-2.6.1             |       h1a28f6b_0          82 KB\n",
      "    xxhash-0.8.0               |       h1a28f6b_3          80 KB\n",
      "    yarl-1.8.1                 |  py311h80987f9_0          89 KB\n",
      "    zipp-3.11.0                |  py311hca03da5_0          22 KB\n",
      "    ------------------------------------------------------------\n",
      "                                           Total:        52.8 MB\n",
      "\n",
      "The following NEW packages will be INSTALLED:\n",
      "\n",
      "  abseil-cpp         pkgs/main/osx-arm64::abseil-cpp-20211102.0-hc377ac9_0 \n",
      "  aiohttp            pkgs/main/osx-arm64::aiohttp-3.8.5-py311h80987f9_0 \n",
      "  aiosignal          pkgs/main/noarch::aiosignal-1.2.0-pyhd3eb1b0_0 \n",
      "  arrow-cpp          pkgs/main/osx-arm64::arrow-cpp-11.0.0-hc7aafb3_2 \n",
      "  async-timeout      pkgs/main/osx-arm64::async-timeout-4.0.2-py311hca03da5_0 \n",
      "  aws-c-common       pkgs/main/osx-arm64::aws-c-common-0.6.8-h80987f9_1 \n",
      "  aws-c-event-stream pkgs/main/osx-arm64::aws-c-event-stream-0.1.6-h313beb8_6 \n",
      "  aws-checksums      pkgs/main/osx-arm64::aws-checksums-0.1.11-h80987f9_2 \n",
      "  aws-sdk-cpp        pkgs/main/osx-arm64::aws-sdk-cpp-1.8.185-ha71a6ea_1 \n",
      "  boost-cpp          pkgs/main/osx-arm64::boost-cpp-1.82.0-h48ca7d4_1 \n",
      "  c-ares             pkgs/main/osx-arm64::c-ares-1.19.1-h80987f9_0 \n",
      "  datasets           pkgs/main/osx-arm64::datasets-2.12.0-py311hca03da5_0 \n",
      "  dill               pkgs/main/osx-arm64::dill-0.3.6-py311hca03da5_0 \n",
      "  frozenlist         pkgs/main/osx-arm64::frozenlist-1.3.3-py311h80987f9_0 \n",
      "  fsspec             pkgs/main/osx-arm64::fsspec-2023.4.0-py311hca03da5_0 \n",
      "  gflags             pkgs/main/osx-arm64::gflags-2.2.2-hc377ac9_0 \n",
      "  glog               pkgs/main/osx-arm64::glog-0.5.0-hc377ac9_0 \n",
      "  grpc-cpp           pkgs/main/osx-arm64::grpc-cpp-1.48.2-hc60591f_1 \n",
      "  huggingface_hub    pkgs/main/osx-arm64::huggingface_hub-0.15.1-py311hca03da5_0 \n",
      "  importlib-metadata pkgs/main/osx-arm64::importlib-metadata-6.0.0-py311hca03da5_0 \n",
      "  krb5               pkgs/main/osx-arm64::krb5-1.20.1-hf3e1bf2_1 \n",
      "  libboost           pkgs/main/osx-arm64::libboost-1.82.0-hdbf59fe_1 \n",
      "  libcurl            pkgs/main/osx-arm64::libcurl-8.2.1-h3e2b118_0 \n",
      "  libedit            pkgs/main/osx-arm64::libedit-3.1.20221030-h80987f9_0 \n",
      "  libev              pkgs/main/osx-arm64::libev-4.33-h1a28f6b_1 \n",
      "  libevent           pkgs/main/osx-arm64::libevent-2.1.12-h02f6b3c_1 \n",
      "  libnghttp2         pkgs/main/osx-arm64::libnghttp2-1.52.0-h62f6fdd_1 \n",
      "  libssh2            pkgs/main/osx-arm64::libssh2-1.10.0-h02f6b3c_2 \n",
      "  libthrift          pkgs/main/osx-arm64::libthrift-0.15.0-h73c2103_2 \n",
      "  multidict          pkgs/main/osx-arm64::multidict-6.0.2-py311h80987f9_0 \n",
      "  multiprocess       pkgs/main/osx-arm64::multiprocess-0.70.14-py311hca03da5_0 \n",
      "  orc                pkgs/main/osx-arm64::orc-1.7.4-hdca1487_1 \n",
      "  pyarrow            pkgs/main/osx-arm64::pyarrow-11.0.0-py311h7575258_1 \n",
      "  python-xxhash      pkgs/main/osx-arm64::python-xxhash-2.0.2-py311h80987f9_1 \n",
      "  pyyaml             pkgs/main/osx-arm64::pyyaml-6.0-py311h80987f9_1 \n",
      "  re2                pkgs/main/osx-arm64::re2-2022.04.01-hc377ac9_0 \n",
      "  regex              pkgs/main/osx-arm64::regex-2022.7.9-py311h80987f9_0 \n",
      "  responses          pkgs/main/noarch::responses-0.13.3-pyhd3eb1b0_0 \n",
      "  safetensors        pkgs/main/osx-arm64::safetensors-0.3.2-py311hf0e4da2_0 \n",
      "  snappy             pkgs/main/osx-arm64::snappy-1.1.9-hc377ac9_0 \n",
      "  tokenizers         pkgs/main/osx-arm64::tokenizers-0.13.2-py311h3dd52b7_1 \n",
      "  tqdm               pkgs/main/osx-arm64::tqdm-4.65.0-py311hb6e6a13_0 \n",
      "  transformers       pkgs/main/osx-arm64::transformers-4.32.1-py311hca03da5_0 \n",
      "  utf8proc           pkgs/main/osx-arm64::utf8proc-2.6.1-h1a28f6b_0 \n",
      "  xxhash             pkgs/main/osx-arm64::xxhash-0.8.0-h1a28f6b_3 \n",
      "  yaml               pkgs/main/osx-arm64::yaml-0.2.5-h1a28f6b_0 \n",
      "  yarl               pkgs/main/osx-arm64::yarl-1.8.1-py311h80987f9_0 \n",
      "  zipp               pkgs/main/osx-arm64::zipp-3.11.0-py311hca03da5_0 \n",
      "\n",
      "\n",
      "Proceed ([y]/n)? ^C\n",
      "\n",
      "CondaSystemExit: \n",
      "Operation aborted.  Exiting.\n",
      "\n"
     ]
    }
   ],
   "source": [
    "!conda install transformers datasets"
   ]
  },
  {
   "cell_type": "code",
   "execution_count": 2,
   "id": "30b96753",
   "metadata": {},
   "outputs": [],
   "source": [
    "# Supervised finr tuning generative model"
   ]
  },
  {
   "cell_type": "code",
   "execution_count": 3,
   "id": "eb86b59f",
   "metadata": {},
   "outputs": [
    {
     "ename": "ModuleNotFoundError",
     "evalue": "No module named 'transformers'",
     "output_type": "error",
     "traceback": [
      "\u001b[0;31m---------------------------------------------------------------------------\u001b[0m",
      "\u001b[0;31mModuleNotFoundError\u001b[0m                       Traceback (most recent call last)",
      "Cell \u001b[0;32mIn[3], line 1\u001b[0m\n\u001b[0;32m----> 1\u001b[0m \u001b[38;5;28;01mfrom\u001b[39;00m \u001b[38;5;21;01mtransformers\u001b[39;00m \u001b[38;5;28;01mimport\u001b[39;00m AutoTokenizer, AutoModelForSeq2SeqLM, TrainingArguments, Trainer, GenerationConfig\n\u001b[1;32m      2\u001b[0m \u001b[38;5;28;01mfrom\u001b[39;00m \u001b[38;5;21;01mdatasets\u001b[39;00m \u001b[38;5;28;01mimport\u001b[39;00m load_dataset\n\u001b[1;32m      3\u001b[0m \u001b[38;5;28;01mimport\u001b[39;00m \u001b[38;5;21;01mdatasets\u001b[39;00m\n",
      "\u001b[0;31mModuleNotFoundError\u001b[0m: No module named 'transformers'"
     ]
    }
   ],
   "source": [
    "from transformers import AutoTokenizer, AutoModelForSeq2SeqLM, TrainingArguments, Trainer, GenerationConfig\n",
    "from datasets import load_dataset\n",
    "import datasets\n",
    "import torch\n",
    "import time\n",
    "import evaluate\n",
    "import numpy as np\n",
    "DEVICE=mps"
   ]
  },
  {
   "cell_type": "code",
   "execution_count": null,
   "id": "ff545666",
   "metadata": {},
   "outputs": [],
   "source": [
    "model_checkpoint='google/flan-t5-base'\n",
    "huggingface_dataset_name = \"knkarthick/dialogsum\""
   ]
  },
  {
   "cell_type": "code",
   "execution_count": 1,
   "id": "df2f284d",
   "metadata": {},
   "outputs": [
    {
     "ename": "NameError",
     "evalue": "name 'os' is not defined",
     "output_type": "error",
     "traceback": [
      "\u001b[0;31m---------------------------------------------------------------------------\u001b[0m",
      "\u001b[0;31mNameError\u001b[0m                                 Traceback (most recent call last)",
      "Cell \u001b[0;32mIn[1], line 1\u001b[0m\n\u001b[0;32m----> 1\u001b[0m \u001b[38;5;28;01mif\u001b[39;00m \u001b[43mos\u001b[49m\u001b[38;5;241m.\u001b[39mpath\u001b[38;5;241m.\u001b[39misdir(\u001b[38;5;124m'\u001b[39m\u001b[38;5;124m./data-summarization/\u001b[39m\u001b[38;5;124m'\u001b[39m):\n\u001b[1;32m      2\u001b[0m     \u001b[38;5;28mprint\u001b[39m(\u001b[38;5;124m'\u001b[39m\u001b[38;5;124mDataset already downloaded\u001b[39m\u001b[38;5;124m'\u001b[39m)\n\u001b[1;32m      3\u001b[0m     dataset \u001b[38;5;241m=\u001b[39m load_dataset(\u001b[38;5;124m'\u001b[39m\u001b[38;5;124m./data-summarization/\u001b[39m\u001b[38;5;124m'\u001b[39m)\n",
      "\u001b[0;31mNameError\u001b[0m: name 'os' is not defined"
     ]
    }
   ],
   "source": [
    "if os.path.isdir('./data-summarization/'):\n",
    "    print('Dataset already downloaded')\n",
    "    dataset = load_dataset('./data-summarization/')\n",
    "else:\n",
    "    from datasets import load_dataset\n",
    "    dataset = load_dataset(huggingface_dataset_name)\n",
    "    dataset = concatenate_datasets([dataset['train'], dataset['test'], dataset['validation']])\n",
    "    !mkdir data-summarization\n",
    "    dataset = dataset.train_test_split(0.5, seed=1234)\n",
    "    dataset['test'].to_csv('./data-summarization/dialogsum-1.csv', index=False)\n",
    "    dataset['train'].to_csv('./data-summarization/dialogsum-2.csv', index=False)\n",
    "print('Example Input Dialogue:')\n",
    "print(dataset['test'][40]['dialogue'])\n",
    "print()\n",
    "print('Example Output Summary:')\n",
    "print(dataset['test'][40]['summary'])"
   ]
  },
  {
   "cell_type": "code",
   "execution_count": null,
   "id": "f3b22245",
   "metadata": {},
   "outputs": [],
   "source": [
    "\n",
    "    from datasets import concatenate_datasets\n",
    "    dataset = load_dataset(\"knkarthick/dialogsum\")\n",
    "    dataset = concatenate_datasets([dataset['train'], dataset['test'], dataset['validation']])\n",
    "    !mkdir data-summarization\n",
    "    dataset = dataset.train_test_split(0.5, seed=1234)\n",
    "    dataset['test'].to_csv('./data-summarization/dialogsum-1.csv', index=False)\n",
    "    dataset['train'].to_csv('./data-summarization/dialogsum-2.csv', index=False)"
   ]
  },
  {
   "cell_type": "code",
   "execution_count": null,
   "id": "a8ef4010",
   "metadata": {},
   "outputs": [],
   "source": [
    "## Load HuggingFace Model"
   ]
  },
  {
   "cell_type": "code",
   "execution_count": null,
   "id": "697a8f9d",
   "metadata": {},
   "outputs": [],
   "source": [
    "tokenizer = AutoTokenizer.from_pretrained(model_checkpoint, use_fast=True)\n",
    "model = AutoModelForSeq2SeqLM.from_pretrained(model_checkpoint)\n",
    "params = sum(p.numel() for p in model.parameters())\n",
    "print(f'Total Number of Model Parameters: {params}')"
   ]
  }
 ],
 "metadata": {
  "kernelspec": {
   "display_name": "Python 3.9 (pytorch)",
   "language": "python",
   "name": "pytorch"
  },
  "language_info": {
   "codemirror_mode": {
    "name": "ipython",
    "version": 3
   },
   "file_extension": ".py",
   "mimetype": "text/x-python",
   "name": "python",
   "nbconvert_exporter": "python",
   "pygments_lexer": "ipython3",
   "version": "3.11.3"
  }
 },
 "nbformat": 4,
 "nbformat_minor": 5
}
