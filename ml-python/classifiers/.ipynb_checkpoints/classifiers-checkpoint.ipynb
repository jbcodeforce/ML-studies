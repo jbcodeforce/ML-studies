{
 "cells": [
  {
   "cell_type": "markdown",
   "metadata": {},
   "source": [
    "# Classifiers\n",
    "\n",
    "## Perceptron\n",
    "This example presents the basic perceptron classifier. Based on the human neuron model, Frank Rosenblatt proposed an algorithm that would automatically learn the optimal weight coefficients that are then multiplied with the input features in order to make the decision of whether a neuron fires or not. \n",
    "\n",
    "In the context of supervised learning and classification, such an algorithm could then be used to predict if a sample belonged to one class or the other.\n",
    "The problem is reduced to a binary classification (-1,1), and an activation function that takes a linear combination of input X, with corresponding weights vector W, to compute the net input z = sum(w(i) * x(i)) i from 1 to n\n",
    "If the value is greater than a threshold the output is 1, -1 otherwise.\n",
    "The function is called unit step function. If w0 is set to be -threshold and x0=1 then the equation becomes\n",
    "\n",
    "$$z=\\sum_{i=0}^m x_{i}*w_{j}= W^T*X$$\n"
   ]
  },
  {
   "cell_type": "code",
   "execution_count": 1,
   "metadata": {},
   "outputs": [],
   "source": [
    "import numpy as np\n",
    "import pandas as pd\n",
    "import matplotlib.pyplot as plt"
   ]
  },
  {
   "cell_type": "markdown",
   "metadata": {},
   "source": [
    "Load the two [IRIS flower](https://en.wikipedia.org/wiki/Iris_flower_data_set) characteristic data: Setosa, Virginica and Versicolor from the Iris dataset, and plot them by petal length and sepal length."
   ]
  },
  {
   "cell_type": "code",
   "execution_count": 3,
   "metadata": {},
   "outputs": [
    {
     "data": {
      "image/png": "[encoded data removed]",
      "text/plain": [
       "<Figure size 432x288 with 1 Axes>"
      ]
     },
     "metadata": {},
     "output_type": "display_data"
    }
   ],
   "source": [
    "df=pd.read_csv('../../data/iris_data.txt',header=None)\n",
    "# load the first 100 records\n",
    "y=df.iloc[0:100,4].values\n",
    "# for neural network dual class label should be -1 or 1, so modify y\n",
    "y = np.where( y == 'Iris-setosa', -1, 1)\n",
    "# take the columns 0,1: sepal and petal length\n",
    "X=df.iloc[0:100,[0,2]].values\n",
    "plt.scatter(X[:50,0],X[:50,1],color='red',marker='o',label='Setosa')\n",
    "plt.scatter(X[50:100,0],X[50:100,1],color='green',marker='x',label='Versicolor')\n",
    "plt.xlabel('Sepal length')\n",
    "plt.ylabel('Petal length')\n",
    "plt.legend( loc ='upper left')\n",
    "plt.show()"
   ]
  },
  {
   "cell_type": "markdown",
   "metadata": {},
   "source": [
    "What is the best boundary to help classify iris flowers?. \n",
    "To do so we use the Perceptron class trained with the 100 first flower records. The perceptron code looks like the code below in next cell.\n",
    "\n",
    "The net input function is computing the $W^T*x$ dot product but uses a $w_0$ variable. The perceptron learning rule is $\\eta*(y_i - k_i)*x_i$ $k_i$ is the known answer of the i th sample. The weight update is proportional to the value of $X_i$. $\\eta$ is the learning rate."
   ]
  },
  {
   "cell_type": "code",
   "execution_count": 4,
   "metadata": {},
   "outputs": [],
   "source": [
    "class Perceptron(object):\n",
    "    '''\n",
    "    Perceptron classifier is based on Rosenblatt's algorithm unit step function.\n",
    "    Based on the human neuron model, Frank Rosenblatt proposed an algorithm that would automatically learn the optimal weight coefficients that are then multiplied with the input features in order to make the decision of whether a neuron fires or not. In the context of supervised learning and classification, such an algorithm could then be used to predict if a sample belonged to one class or the other.\n",
    "    '''\n",
    "    def __init__(self, eta=0.01,nbOfIteration=10):\n",
    "        '''\n",
    "        Constructor: eta is the learning rate between 0 and 1. The # of iteration\n",
    "        to compute the weights by going n loop over the training set\n",
    "        '''\n",
    "        self.eta=eta\n",
    "        self.nbOfIteration=nbOfIteration\n",
    "\n",
    "    def fit(self,X,y):\n",
    "        ''' Fit the training data given the matrix X of the samples/features and y the matching classes\n",
    "        Recompute the weight if there is a delta between the predicted value and the expected value\n",
    "        X : {array-like}, shape = [n_samples, p_features]\n",
    "        y : array-like, shape = [n_samples] of class labels\n",
    "        '''\n",
    "        self.weights=np.zeros(1+X.shape[1])\n",
    "        # list of misclassifications during the epochs\n",
    "        self.errors=[]\n",
    "\n",
    "        for _ in range(self.nbOfIteration):\n",
    "            error=0\n",
    "            # iterate over the 'sample' row of X and y, stop on shortest list between X & y(the use of zip)\n",
    "            for xi,target in zip(X,y):\n",
    "                # update the weights according to the perceptron learning rule\n",
    "                update=self.eta*(target - self.predict(xi))\n",
    "                self.weights[1:]+=update * xi\n",
    "                self.weights[0]+=update\n",
    "                error+=int(update != 0.0)\n",
    "            self.errors.append(error)\n",
    "        return self\n",
    "\n",
    "    def netInput(self,X):\n",
    "        # calculate the vector dot product wT * x, or equivalent to\n",
    "        # compute z = sum(x(i) * w(i)) for i from 1 to n, add the threshold\n",
    "        return np.dot(X,self.weights[1:]) + self.weights[0]\n",
    "\n",
    "    def predict(self,X):\n",
    "        # predict the class label\n",
    "        # unit step function: return -1 or 1 depending of the\n",
    "        # net input compared to a threshold\n",
    "        return np.where(self.netInput(X)>=0.0,1,-1)"
   ]
  },
  {
   "cell_type": "markdown",
   "metadata": {},
   "source": [
    "To simplify the presentation of the data into graph we define a tool class"
   ]
  },
  {
   "cell_type": "code",
   "execution_count": 5,
   "metadata": {},
   "outputs": [],
   "source": [
    "from matplotlib.colors import ListedColormap\n",
    "\n",
    "def displayDecisionRegions(X,y,classifier,resolution=0.2,test_idx=None,xlabel=None,ylabel=None,label1='1',label0='0',label2='2',title='classifier'):\n",
    "    # setup marker generator and color map\n",
    "    markers = ('s', 'x', 'o', '^', 'v')\n",
    "    colors = ('gray', 'green', 'blue', 'red', 'cyan')\n",
    "    cmap = ListedColormap( colors[: len( np.unique( y))])\n",
    "    # determine the min and max value for the two features used\n",
    "    x1_min, x1_max = X[:, 0].min() - 1, X[:, 0].max() + 1\n",
    "    x2_min, x2_max = X[:, 1].min() - 1, X[:, 1].max() + 1\n",
    "    # build a grid array, using evenly spaced values within interval min max for each features\n",
    "    xx1,xx2=np.meshgrid( np.arange( x1_min, x1_max, resolution), np.arange( x2_min, x2_max, resolution))\n",
    "    # Predict the boundary by using a X = progressing values from x1 min to x1 max (x2 min, x2 max)\n",
    "    Z = classifier.predict( np.array([ xx1.ravel(), xx2.ravel()]).T)\n",
    "    # reshape Z as matrix\n",
    "    Z = Z.reshape( xx1.shape)\n",
    "    # draw contour plot\n",
    "    plt.contourf( xx1, xx2, Z, alpha = 0.4, cmap = cmap)\n",
    "    plt.xlim( xx1.min(), xx1.max())\n",
    "    plt.ylim( xx2.min(), xx2.max())\n",
    "    # plot class samples\n",
    "    for idx, cl in enumerate( np.unique( y)):\n",
    "        if cl == 2:\n",
    "            aclass=label2\n",
    "        else:\n",
    "            if cl == 0:\n",
    "                aclass=label0\n",
    "            else:\n",
    "                aclass=label1\n",
    "        plt.scatter( x = X[ y == cl, 0],\n",
    "                     y = X[ y == cl, 1],\n",
    "                     alpha = 0.8,\n",
    "                     c = cmap( idx),\n",
    "                     marker = markers[ idx],\n",
    "                     label = aclass)\n",
    "    if test_idx:\n",
    "        X_test,y_test = X[test_idx,:],y[test_idx]\n",
    "        plt.scatter(X_test[:,0],X_test[:,1],c='',alpha=1.0,linewidths=1,marker='o',s=55,label='Test set')\n",
    "    plt.xlabel(xlabel)\n",
    "    plt.ylabel(ylabel)\n",
    "    plt.legend( loc ='upper left')\n",
    "    plt.show()\n"
   ]
  },
  {
   "cell_type": "code",
   "execution_count": 6,
   "metadata": {},
   "outputs": [
    {
     "ename": "ModuleNotFoundError",
     "evalue": "No module named 'classifier'",
     "output_type": "error",
     "traceback": [
      "\u001b[0;31m---------------------------------------------------------------------------\u001b[0m",
      "\u001b[0;31mModuleNotFoundError\u001b[0m                       Traceback (most recent call last)",
      "\u001b[0;32m<ipython-input-6-9ea4e486debc>\u001b[0m in \u001b[0;36m<module>\u001b[0;34m()\u001b[0m\n\u001b[0;32m----> 1\u001b[0;31m \u001b[0;32mimport\u001b[0m \u001b[0mclassifier\u001b[0m\u001b[0;34m.\u001b[0m\u001b[0mTool\u001b[0m \u001b[0;32mas\u001b[0m \u001b[0mtool\u001b[0m\u001b[0;34m\u001b[0m\u001b[0m\n\u001b[0m\u001b[1;32m      2\u001b[0m \u001b[0mppn\u001b[0m \u001b[0;34m=\u001b[0m \u001b[0mPerceptron\u001b[0m\u001b[0;34m(\u001b[0m\u001b[0;36m0.01\u001b[0m\u001b[0;34m,\u001b[0m\u001b[0;36m10\u001b[0m\u001b[0;34m)\u001b[0m\u001b[0;34m\u001b[0m\u001b[0m\n\u001b[1;32m      3\u001b[0m \u001b[0mppn\u001b[0m\u001b[0;34m.\u001b[0m\u001b[0mfit\u001b[0m\u001b[0;34m(\u001b[0m\u001b[0mX\u001b[0m\u001b[0;34m,\u001b[0m\u001b[0my\u001b[0m\u001b[0;34m)\u001b[0m\u001b[0;34m\u001b[0m\u001b[0m\n\u001b[1;32m      4\u001b[0m displayDecisionRegions( X, y, classifier = ppn,\n\u001b[1;32m      5\u001b[0m         xlabel='sepal length [std]',ylabel='petal length [std]',label0='Setosa',label1='Versicolor')\n",
      "\u001b[0;31mModuleNotFoundError\u001b[0m: No module named 'classifier'"
     ]
    }
   ],
   "source": [
    "import Tool as tool \n",
    "ppn = Perceptron(0.01,10)\n",
    "ppn.fit(X,y)\n",
    "displayDecisionRegions( X, y, classifier = ppn,\n",
    "        xlabel='sepal length [std]',ylabel='petal length [std]',label0='Setosa',label1='Versicolor')\n"
   ]
  },
  {
   "cell_type": "markdown",
   "metadata": {},
   "source": [
    "The errors array is used to keep the misclassifications done during the iterations processing or epochs. The following code illustrates the errors rate per iteration:"
   ]
  },
  {
   "cell_type": "code",
   "execution_count": 34,
   "metadata": {},
   "outputs": [
    {
     "data": {
      "image/png": "[encoded data removed]",
      "text/plain": [
       "<matplotlib.figure.Figure at 0x10c5e4630>"
      ]
     },
     "metadata": {},
     "output_type": "display_data"
    }
   ],
   "source": [
    "plt.plot(range( 1, len( ppn.errors) + 1),ppn.errors, marker ='o')\n",
    "plt.xlabel('Epochs')\n",
    "plt.ylabel('Number of mis-classifications')\n",
    "plt.show()"
   ]
  },
  {
   "cell_type": "markdown",
   "metadata": {},
   "source": [
    "It is important to note that the convergence of the perceptron is only guaranteed if the two classes are linearly separable and the learning rate is sufficiently small. The following test illustrates the convergence using different values for $\\eta$\n"
   ]
  },
  {
   "cell_type": "markdown",
   "metadata": {},
   "source": [
    "## ADAptive LInear NEuron classifier:\n",
    "In ADALINE the weights are updated based on a linear activation function (the identity function) rather than a unit step function like in the perceptron.\n",
    "One of the key ingredients of supervised machine learning algorithms is to define an objective function that is to be optimized during the learning process. This objective function is often a cost function that we want to minimize. So the weights update will minimize the cost function. The cost function could be the sum squared errors between the outcomes and the target label:\n",
    "$$J(w)=\\frac{1}{2}*\\sum_{i=0}^m(y_i-\\phi(z_i))^2$$\n",
    "\n",
    "where $y_i$ is the expected class and $\\phi$ is the output function $W^T*X$\n",
    "\n",
    "which in python may look like the code below:\n",
    "```python\n",
    "  output = np.dot(X,self.weights[1:]) + self.weights[0]\n",
    "  errors = (y - output)\n",
    "  cost = (errors** 2).sum() / 2.0\n",
    "```\n",
    "The operators are on matrix as X is a matrix and y a vector.\n",
    "\n",
    "The cost function is convex continuous linear and can be derived to compute the gradient descent algorithm to find the local minima.\n",
    "The weight difference is computed as the negative gradient * the learning rate eta. To compute the gradient of the cost function, we need to compute the partial derivative of the cost function with respect to each weight w(j). So putting all together we have:\n",
    "\n",
    "$$-\\eta*\\frac{\\delta J}{\\delta W}=\\eta*\\sum_{i=0}^m(y_i-\\phi(z_i))*X_i$$\n",
    "\n",
    "the weight update is calculated based on all samples in the training set (instead of updating the weights incrementally after each sample), which is why this approach is also referred to as \"batch\" gradient descent.\n",
    "So basically to minimize the cost function we took steps into the opposite direction of a gradient calculated from the entire training set.\n",
    "\n",
    "\n",
    "The adaline using the gradiant descent is defined as the class below."
   ]
  },
  {
   "cell_type": "code",
   "execution_count": 35,
   "metadata": {},
   "outputs": [],
   "source": [
    "class AdalineGradiantDescent(object):\n",
    "\n",
    "    def __init__(self, eta=0.01,nbOfIteration=10):\n",
    "        '''\n",
    "        eta is the learning rate between 0 and 1. The # of iteration\n",
    "        to train by going n times over the training set\n",
    "        '''\n",
    "        self.eta=eta\n",
    "        self.nbOfIteration=nbOfIteration\n",
    "\n",
    "    def fit(self,X,y):\n",
    "        ''' Fit the training data given within the matrix X of the samples/features and y the matching classes\n",
    "        Recompute the weight if there is a delta between the predicted value and the expected value\n",
    "        X : {array-like}, shape = [n_samples, n_features]\n",
    "        y : array-like, shape = [n_samples] of class labels\n",
    "        '''\n",
    "        # the number of weights = nb of features + 1.\n",
    "        self.weights=np.zeros(1+X.shape[1])\n",
    "        self.costs=[]\n",
    "        for _ in range(self.nbOfIteration):\n",
    "            output = self.netInput(X)\n",
    "            errors = (y - output)\n",
    "            # calculate the gradient based on the whole training dataset. Use the matrix vector *\n",
    "            # between the feature matrix and the error vector\n",
    "            self.weights[1:] += self.eta * X.T.dot( errors)\n",
    "            self.weights[0]  += self.eta * errors.sum()\n",
    "            cost = (errors** 2).sum() / 2.0\n",
    "            # keep cost computed at each iteration to assess convergence.\n",
    "            self.costs.append(cost)\n",
    "        return self\n",
    "\n",
    "    def netInput(self,X):\n",
    "        # compute z = sum(x(i) * w(i)) for i from 1 to n, add the threshold\n",
    "        return np.dot(X,self.weights[1:]) + self.weights[0]\n",
    "\n",
    "    def activation( self, X):\n",
    "        \"\"\" Compute linear activation\"\"\"\n",
    "        return self.netInput( X)\n",
    "\n",
    "    def predict(self,X):\n",
    "        # unit step function. Compute the net input and compares it a threshold\n",
    "        return np.where(self.activation(X)>=0.0,1,-1)"
   ]
  },
  {
   "cell_type": "code",
   "execution_count": 36,
   "metadata": {},
   "outputs": [
    {
     "data": {
      "image/png": "[encoded data removed]",
      "text/plain": [
       "<matplotlib.figure.Figure at 0x10c34d198>"
      ]
     },
     "metadata": {},
     "output_type": "display_data"
    }
   ],
   "source": [
    "# present the convergence curves for two values of eta.\n",
    "fig, ax = plt.subplots( nrows = 1, ncols = 2, figsize =( 8, 4))\n",
    "# the eta is too high, the errors are becoming larger as local minima is overshoot\n",
    "ada1 = AdalineGradiantDescent( nbOfIteration = 10, eta = 0.01)\n",
    "ada1.fit( X, y)\n",
    "ax[0].plot(range( 1, len( ada1.costs) + 1), np.log10( ada1.costs), marker ='o')\n",
    "ax[0].set_xlabel('Epochs')\n",
    "ax[0].set_ylabel('log( Sum-squared-error)')\n",
    "ax[0].set_title('Adaline - Learning rate 0.01')\n",
    "ada2 = AdalineGradiantDescent( nbOfIteration = 10, eta = 0.0001)\n",
    "ada2.fit( X, y)\n",
    "ax[1].plot(range( 1, len( ada2.costs) + 1), np.log10( ada2.costs), marker ='x')\n",
    "ax[1].set_xlabel(' Epochs')\n",
    "ax[1].set_ylabel('log( Sum-squared-error)')\n",
    "ax[1].set_title('Adaline - Learning rate 0.0001')\n",
    "plt.show()\n"
   ]
  },
  {
   "cell_type": "markdown",
   "metadata": {},
   "source": [
    "### Stochastic gradient descent\n",
    "The previous approach can take a lot of time when the dataset includes millions of records.\n",
    "A more efficient approach is to take the stochastic gradient descent. It is used with online training, where the algorithm is trained on-the-fly, while new training set arrive.\n",
    "The weights are computed with \n",
    "\n",
    "$$\\eta*(y_i-\\phi(z_i))*X_i$$\n",
    "\n",
    "The class below uses this approach\n",
    "\n",
    "\n",
    "To obtain accurate results via stochastic gradient descent, it is important to present it with data in a random order, which is why we want to shuffle the training set for every epoch to prevent cycles.\n"
   ]
  },
  {
   "cell_type": "code",
   "execution_count": 37,
   "metadata": {},
   "outputs": [],
   "source": [
    "from numpy.random import seed\n",
    "class AdalineStockaticGradiantDescent(object):\n",
    "    def __init__(self, eta=0.01,nbOfIteration=10,shuffle=True,randomState=None):\n",
    "        '''\n",
    "        Constructor\n",
    "        '''\n",
    "        self.eta=eta\n",
    "        self.nbOfIteration=nbOfIteration\n",
    "        self.shuffle=shuffle\n",
    "        self.weightInitialized=False\n",
    "        if randomState:\n",
    "            seed(randomState)\n",
    "\n",
    "    def fit(self,X,y):\n",
    "        self.initWeights(X.shape[1])\n",
    "        self.costs=[]\n",
    "        for _ in range(self.nbOfIteration):\n",
    "            if self.shuffle:\n",
    "                X, y = self.shuffleData( X, y)\n",
    "            cost = []\n",
    "            for xi, target in zip( X, y):\n",
    "                cost.append( self.updateWeights( xi, target))\n",
    "            averageCost = sum(cost)/ len( y)\n",
    "            self.costs.append( averageCost)\n",
    "        return self\n",
    "\n",
    "    def initWeights(self,m):\n",
    "        # init weigths with zero\n",
    "        self.weights=np.zeros(1+m)\n",
    "        self.weightInitialized=True\n",
    "\n",
    "    def updateWeights(self,xi,target):\n",
    "        \"\"\" update the weights incrementally for each training sample.\n",
    "        xi a sample of th feature: a row of the matrix\n",
    "        \"\"\"\n",
    "        output = self.netInput( xi)\n",
    "        error = (target - output)\n",
    "        self.weights[1:] += self.eta * xi.dot( error)\n",
    "        self.weights[0] += self.eta * error\n",
    "        cost = (error** 2)/ 2.0\n",
    "        return cost\n",
    "\n",
    "    def shuffleData(self,X,y):\n",
    "        \"\"\" Shuffle training data\"\"\"\n",
    "        r = np.random.permutation( len( y))\n",
    "        return X[ r], y[ r]\n",
    "\n",
    "    def netInput(self,X):\n",
    "        # compute z = sum(x(i) * w(i)) for i from 1 to n, add the threshold\n",
    "        return np.dot(X,self.weights[1:]) + self.weights[0]\n",
    "\n",
    "    def activation( self, X):\n",
    "        \"\"\" Compute linear activation\"\"\"\n",
    "        return self.netInput( X)\n",
    "\n",
    "    def predict(self,X):\n",
    "        # unit step function. Compute the net input and compares it a threshold\n",
    "        return np.where(self.activation(X)>=0.0,1,-1)\n",
    "\n",
    "    def partialFit(self,X,y):\n",
    "        # Fit without init the weights\n",
    "        if not self.weightInitialized:\n",
    "            self.initWeights(X.shape[1])\n",
    "        if y.ravel.shape[0] > 1:\n",
    "            for xi, target in zip( X, y):\n",
    "                self.updateWeights( xi, target)\n",
    "        else:\n",
    "            self.updateWeights(X,y)\n",
    "        return self"
   ]
  },
  {
   "cell_type": "markdown",
   "metadata": {},
   "source": [
    "\n",
    "When the features are standardized (each feature value is reduced by the mean and divided by the standard deviation) the ADALine algorithm converges more quickly.\n"
   ]
  },
  {
   "cell_type": "code",
   "execution_count": 38,
   "metadata": {},
   "outputs": [
    {
     "name": "stdout",
     "output_type": "stream",
     "text": [
      ">> Display Decision regions\n"
     ]
    },
    {
     "data": {
      "image/png": "[encoded data removed]",
      "text/plain": [
       "<matplotlib.figure.Figure at 0x10c7a0d30>"
      ]
     },
     "metadata": {},
     "output_type": "display_data"
    },
    {
     "name": "stdout",
     "output_type": "stream",
     "text": [
      ">> Display cost function\n"
     ]
    },
    {
     "data": {
      "image/png": "[encoded data removed]",
      "text/plain": [
       "<matplotlib.figure.Figure at 0x10c7a0f98>"
      ]
     },
     "metadata": {},
     "output_type": "display_data"
    }
   ],
   "source": [
    "\n",
    "def prepareTraining():\n",
    "    X_std = np.copy(X)\n",
    "    X_std[:,0]=(X[:,0]-np.mean(X[:,0]))/np.std(X[:,0])\n",
    "    X_std[:,1]=(X[:,1]-np.mean(X[:,1]))/np.std(X[:,1])\n",
    "    return X_std,y\n",
    "    \n",
    "X_std,y=prepareTraining();\n",
    "ada=AdalineStockaticGradiantDescent(nbOfIteration = 15, eta = 0.01,randomState=1)\n",
    "ada.fit(X_std, y)\n",
    "print(\">> Display Decision regions\")\n",
    "displayDecisionRegions( X_std, y, classifier = ada,\n",
    "   xlabel='sepal length [std]',ylabel='petal length [std]')\n",
    "\n",
    "print(\">> Display cost function\")\n",
    "plt.plot(range( 1, len( ada.costs) + 1),  ada.costs, marker ='o')\n",
    "plt.xlabel('Epochs')\n",
    "plt.ylabel('Average costs')\n",
    "plt.title('Adaline - Learning rate 0.01')\n",
    "plt.show()"
   ]
  }
 ],
 "metadata": {
  "kernelspec": {
   "display_name": "Python 3",
   "language": "python",
   "name": "python3"
  },
  "language_info": {
   "codemirror_mode": {
    "name": "ipython",
    "version": 3
   },
   "file_extension": ".py",
   "mimetype": "text/x-python",
   "name": "python",
   "nbconvert_exporter": "python",
   "pygments_lexer": "ipython3",
   "version": "3.6.3"
  }
 },
 "nbformat": 4,
 "nbformat_minor": 2
}
