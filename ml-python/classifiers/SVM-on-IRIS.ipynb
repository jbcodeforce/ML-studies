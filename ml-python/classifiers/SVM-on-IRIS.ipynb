{
 "cells": [
  {
   "cell_type": "markdown",
   "metadata": {},
   "source": [
    "# Maximum margin classification with support vector machines (SVM)\n",
    "In SVM the goal is now to maximize the margin: the distance between the decision boundary and the training samples.\n",
    "The rationale behind having decision boundaries with large margins is that they tend to have a lower generalization error whereas models with small margins are more prone to overfitting.\n",
    "### Dependencies"
   ]
  },
  {
   "cell_type": "code",
   "execution_count": 1,
   "metadata": {},
   "outputs": [
    {
     "ename": "ModuleNotFoundError",
     "evalue": "No module named 'sklearn'",
     "output_type": "error",
     "traceback": [
      "\u001b[0;31m---------------------------------------------------------------------------\u001b[0m",
      "\u001b[0;31mModuleNotFoundError\u001b[0m                       Traceback (most recent call last)",
      "\u001b[1;32m/Users/boyerje/Documents/Code/jbcodeforce/ML-studies/ml-python/classifiers/SVM-on-IRIS.ipynb Cell 2\u001b[0m line \u001b[0;36m2\n\u001b[1;32m      <a href='vscode-notebook-cell:/Users/boyerje/Documents/Code/jbcodeforce/ML-studies/ml-python/classifiers/SVM-on-IRIS.ipynb#W1sZmlsZQ%3D%3D?line=0'>1</a>\u001b[0m \u001b[39mimport\u001b[39;00m \u001b[39mnumpy\u001b[39;00m \u001b[39mas\u001b[39;00m \u001b[39mnp\u001b[39;00m\n\u001b[0;32m----> <a href='vscode-notebook-cell:/Users/boyerje/Documents/Code/jbcodeforce/ML-studies/ml-python/classifiers/SVM-on-IRIS.ipynb#W1sZmlsZQ%3D%3D?line=1'>2</a>\u001b[0m \u001b[39mfrom\u001b[39;00m \u001b[39msklearn\u001b[39;00m\u001b[39m.\u001b[39;00m\u001b[39msvm\u001b[39;00m \u001b[39mimport\u001b[39;00m SVC\n\u001b[1;32m      <a href='vscode-notebook-cell:/Users/boyerje/Documents/Code/jbcodeforce/ML-studies/ml-python/classifiers/SVM-on-IRIS.ipynb#W1sZmlsZQ%3D%3D?line=2'>3</a>\u001b[0m \u001b[39mfrom\u001b[39;00m \u001b[39msklearn\u001b[39;00m \u001b[39mimport\u001b[39;00m datasets\n\u001b[1;32m      <a href='vscode-notebook-cell:/Users/boyerje/Documents/Code/jbcodeforce/ML-studies/ml-python/classifiers/SVM-on-IRIS.ipynb#W1sZmlsZQ%3D%3D?line=3'>4</a>\u001b[0m \u001b[39mfrom\u001b[39;00m \u001b[39msklearn\u001b[39;00m \u001b[39mimport\u001b[39;00m model_selection\n",
      "\u001b[0;31mModuleNotFoundError\u001b[0m: No module named 'sklearn'"
     ]
    }
   ],
   "source": [
    "import numpy as np\n",
    "from sklearn.svm import SVC\n",
    "from sklearn import datasets\n",
    "from sklearn import model_selection\n",
    "from sklearn.preprocessing import StandardScaler"
   ]
  },
  {
   "cell_type": "markdown",
   "metadata": {},
   "source": [
    "### The display region function"
   ]
  },
  {
   "cell_type": "code",
   "execution_count": null,
   "metadata": {},
   "outputs": [],
   "source": [
    "from matplotlib.colors import ListedColormap\n",
    "import matplotlib.pyplot as plt\n",
    "\n",
    "def displayDecisionRegions(X,y,classifier,resolution=0.02,test_idx=None,xlabel=None,ylabel=None,label1='1',label0='0',label2='2',title='classifier'):\n",
    "    # setup marker generator and color map\n",
    "    markers = ('s', 'x', 'o', '^', 'v')\n",
    "    colors = ('gray', 'green', 'blue', 'red', 'cyan')\n",
    "    cmap = ListedColormap( colors[: len( np.unique( y))])\n",
    "    # determine the min and max value for the two features used\n",
    "    x_min, x_max = X[:, 0].min() - 1, X[:, 0].max() + 1\n",
    "    y_min, y_max = X[:, 1].min() - 1, X[:, 1].max() + 1\n",
    "    # build a grid array, using evenly spaced values within interval min max for each features\n",
    "    xx,yy=np.meshgrid( np.arange( x_min, x_max, resolution), np.arange( y_min, y_max, resolution))\n",
    "    # Predict the boundary by using a X = progressing values from x min to x max (y min, y max)\n",
    "    Z = classifier.predict( np.array([ xx.ravel(), yy.ravel()]).T)\n",
    "    # reshape Z as matrix\n",
    "    Z = Z.reshape( xx.shape)\n",
    "    # draw contour plot\n",
    "    plt.contourf( xx, yy, Z, alpha = 0.4, cmap = cmap)\n",
    "    plt.xlim( xx.min(), xx.max())\n",
    "    plt.ylim( yy.min(), yy.max())\n",
    "    # plot class samples\n",
    "    for idx, cl in enumerate( np.unique( y)):\n",
    "        if cl == 2:\n",
    "            aclass=label2\n",
    "        else:\n",
    "            if cl == 0:\n",
    "                aclass=label0\n",
    "            else:\n",
    "                aclass=label1\n",
    "        plt.scatter( x = X[ y == cl, 0],\n",
    "                     y = X[ y == cl, 1],\n",
    "                     alpha = 0.8,\n",
    "                     c = cmap( idx),\n",
    "                     marker = markers[ idx],\n",
    "                     label = aclass)\n",
    "    if test_idx:\n",
    "        X_test,y_test = X[test_idx,:],y[test_idx]\n",
    "        plt.scatter(X_test[:,0],X_test[:,1],c='',alpha=1.0,linewidths=1,marker='o',s=55,label='Test set')\n",
    "    plt.xlabel(xlabel)\n",
    "    plt.ylabel(ylabel)\n",
    "    plt.legend( loc ='upper left')\n",
    "    plt.show()"
   ]
  },
  {
   "cell_type": "markdown",
   "metadata": {},
   "source": [
    "### Load and prepare data"
   ]
  },
  {
   "cell_type": "code",
   "execution_count": null,
   "metadata": {},
   "outputs": [
    {
     "name": "stdout",
     "output_type": "stream",
     "text": [
      "1- load iris data using datasets\n",
      "2- build training set and test set \n",
      "train_test_split( X, y, test_size = 0.3, random_state = 0)\n",
      "3- Standardize the training and test sets\n"
     ]
    }
   ],
   "source": [
    "print(\"1- load iris data using datasets\")\n",
    "iris=datasets.load_iris()\n",
    "X=iris.data[:,[2,3]]\n",
    "y=iris.target\n",
    "print(\"2- build training set and test set \\ntrain_test_split( X, y, test_size = 0.3, random_state = 0)\")\n",
    "# Randomly split X and y arrays into 30% test data and 70% training set\n",
    "X_train, X_test, y_train, y_test = model_selection.train_test_split( X, y, test_size = 0.3, random_state = 0)\n",
    "X_train.shape,y_train.shape\n",
    "print('3- Standardize the training and test sets')\n",
    "# standardize the features for optimal performance of gradient descent\n",
    "sc=StandardScaler()\n",
    "# compute mean and std deviation for each feature using fit\n",
    "sc.fit(X_train)\n",
    "X_train_std=sc.transform(X_train)\n",
    "# Note that we used the same scaling parameters to standardize the test set so\n",
    "# that both the values in the training and test dataset are comparable to each other.\n",
    "X_test_std=sc.transform(X_test)"
   ]
  },
  {
   "cell_type": "markdown",
   "metadata": {},
   "source": [
    "### Fit the model\n",
    "SVMs mostly care about the points that are closest to the decision boundary (support vectors). Large values of C correspond to large error penalties whereas we are less strict about misclassification errors if we choose smaller values for C. We can then we use the parameter C to control the width of the margin and therefore tune the bias-variance trade-off as."
   ]
  },
  {
   "cell_type": "code",
   "execution_count": null,
   "metadata": {},
   "outputs": [
    {
     "name": "stdout",
     "output_type": "stream",
     "text": [
      "4- fit SVM with training set: SVC(kernel='linear',C=1.0,random_state=0)\n",
      "5- Display decision regions\n"
     ]
    },
    {
     "data": {
      "image/png": "[encoded data removed]",
      "text/plain": [
       "<matplotlib.figure.Figure at 0x7f5a7529b4e0>"
      ]
     },
     "metadata": {},
     "output_type": "display_data"
    }
   ],
   "source": [
    "\n",
    "print('4- fit SVM with training set: SVC(kernel=\\'linear\\',C=1.0,random_state=0)')\n",
    "svm = SVC(kernel='linear',C=1.0,random_state=0)\n",
    "svm.fit(X_train_std,y_train)\n",
    "\n",
    "print(\"5- Display decision regions\")\n",
    "X_combined_std=np.vstack((X_train_std,X_test_std))\n",
    "y_combined=np.hstack((y_train,y_test))\n",
    "displayDecisionRegions( X_combined_std, y_combined, classifier = svm,\n",
    "                       test_idx = range( 105,150),\n",
    "                       label0='Setosa',label1='Versicolor',label2='Virginica',\n",
    "                        xlabel='petal length [std]', ylabel='petal width [std]')"
   ]
  },
  {
   "cell_type": "code",
   "execution_count": null,
   "metadata": {},
   "outputs": [],
   "source": []
  }
 ],
 "metadata": {
  "kernelspec": {
   "display_name": "Python 3.9 (pytorch)",
   "language": "python",
   "name": "pytorch"
  },
  "language_info": {
   "codemirror_mode": {
    "name": "ipython",
    "version": 3
   },
   "file_extension": ".py",
   "mimetype": "text/x-python",
   "name": "python",
   "nbconvert_exporter": "python",
   "pygments_lexer": "ipython3",
   "version": "3.11.6"
  }
 },
 "nbformat": 4,
 "nbformat_minor": 2
}
