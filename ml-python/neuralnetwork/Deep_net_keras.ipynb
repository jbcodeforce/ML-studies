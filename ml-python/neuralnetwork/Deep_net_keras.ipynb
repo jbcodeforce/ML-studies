{
 "cells": [
  {
   "cell_type": "markdown",
   "metadata": {},
   "source": [
    "# Deep Network\n",
    "This example is adding more layers to the NN. Starting from the intermediate NN construct. See notebook.\n",
    "\n",
    "## Set the seed"
   ]
  },
  {
   "cell_type": "code",
   "execution_count": 1,
   "metadata": {},
   "outputs": [],
   "source": [
    "import numpy as np\n",
    "np.random.seed(42)"
   ]
  },
  {
   "cell_type": "markdown",
   "metadata": {},
   "source": [
    "#### Load dependencies\n",
    "Keras is the python API to access tensorflow"
   ]
  },
  {
   "cell_type": "code",
   "execution_count": 2,
   "metadata": {},
   "outputs": [
    {
     "name": "stderr",
     "output_type": "stream",
     "text": [
      "Using TensorFlow backend.\n",
      "/opt/conda/lib/python3.6/importlib/_bootstrap.py:205: RuntimeWarning: compiletime version 3.5 of module 'tensorflow.python.framework.fast_tensor_util' does not match runtime version 3.6\n",
      "  return f(*args, **kwds)\n"
     ]
    }
   ],
   "source": [
    "import keras\n",
    "from keras.datasets import mnist\n",
    "from keras.models import Sequential\n",
    "from keras.layers import Dense\n",
    "from keras.layers import Dropout\n",
    "from keras.layers.normalization import BatchNormalization\n",
    "from keras.optimizers import SGD\n",
    "from keras import regularizers"
   ]
  },
  {
   "cell_type": "markdown",
   "metadata": {},
   "source": [
    "#### Prepare data"
   ]
  },
  {
   "cell_type": "code",
   "execution_count": 3,
   "metadata": {},
   "outputs": [],
   "source": [
    "(X_train,y_train),(X_test,y_test)= mnist.load_data()\n",
    "X_train = X_train.reshape(60000,784).astype('float32')\n",
    "X_test = X_test.reshape(10000,784).astype('float32')\n",
    "# Apply matrix scalar division to bring value from 0 to 1\n",
    "X_train /=255\n",
    "X_test /= 255\n",
    "# There are 10 digits to classify\n",
    "n_classes=10\n",
    "y_train = keras.utils.to_categorical(y_train,n_classes)\n",
    "y_test = keras.utils.to_categorical(y_test,n_classes)\n"
   ]
  },
  {
   "cell_type": "markdown",
   "metadata": {},
   "source": [
    "## Design deep neural network\n",
    "Define 3 layers with 64 inputs. Deep begins at 3 layers\n",
    "Tuning initialization is one of the parameters to play with. Here the Initialization in keras is using glorot_uniform, which is very good. Other values: glorot_normal. We need to add L2 regularization to the weight to control / prevent overfitting. Normally it is not necessary to regularize the bias or at the activity level, weight should be enough. The input parameter for L2 reg is a scale factor.\n",
    "Dropout consists in randomly setting a fraction rate of input units to 0 at each update during training time, which helps prevent overfitting. \n",
    "BatchNormalization is making normalization a part of the model architecture and performing the normalization for each training mini-batch. Batch Normalization allows us to use much higher learning rates and be less careful about initialization. It also acts as a regularizer, in some cases eliminating the need for Dropout."
   ]
  },
  {
   "cell_type": "code",
   "execution_count": 11,
   "metadata": {},
   "outputs": [],
   "source": [
    "model = Sequential()\n",
    "model.add(Dense(64,activation='relu',input_shape=(784,),\n",
    "                kernel_initializer='glorot_uniform', kernel_regularizer=regularizers.l2(0.01)))\n",
    "model.add(BatchNormalization())\n",
    "model.add(Dropout(0.5))\n",
    "model.add(Dense(64,activation='relu'))\n",
    "model.add(BatchNormalization())\n",
    "model.add(Dropout(0.5))\n",
    "model.add(Dense(64,activation='relu'))\n",
    "model.add(BatchNormalization())\n",
    "model.add(Dropout(0.5))\n",
    "model.add(Dense(10,activation='softmax'))"
   ]
  },
  {
   "cell_type": "code",
   "execution_count": 12,
   "metadata": {},
   "outputs": [
    {
     "name": "stdout",
     "output_type": "stream",
     "text": [
      "_________________________________________________________________\n",
      "Layer (type)                 Output Shape              Param #   \n",
      "=================================================================\n",
      "dense_7 (Dense)              (None, 64)                50240     \n",
      "_________________________________________________________________\n",
      "batch_normalization_1 (Batch (None, 64)                256       \n",
      "_________________________________________________________________\n",
      "dropout_3 (Dropout)          (None, 64)                0         \n",
      "_________________________________________________________________\n",
      "dense_8 (Dense)              (None, 64)                4160      \n",
      "_________________________________________________________________\n",
      "batch_normalization_2 (Batch (None, 64)                256       \n",
      "_________________________________________________________________\n",
      "dropout_4 (Dropout)          (None, 64)                0         \n",
      "_________________________________________________________________\n",
      "dense_9 (Dense)              (None, 10)                650       \n",
      "=================================================================\n",
      "Total params: 55,562\n",
      "Trainable params: 55,306\n",
      "Non-trainable params: 256\n",
      "_________________________________________________________________\n"
     ]
    }
   ],
   "source": [
    "model.summary()"
   ]
  },
  {
   "cell_type": "markdown",
   "metadata": {},
   "source": [
    "#### Compile the model and train\n",
    "Specifying the cost function to use, the metric to optimize and the type of optimization. Could be gardiant descent by setting optimizer=SGD(lr=0.1). Adam brings the capability to decrease of the learning rate ver iteration automatically."
   ]
  },
  {
   "cell_type": "code",
   "execution_count": 13,
   "metadata": {},
   "outputs": [
    {
     "name": "stdout",
     "output_type": "stream",
     "text": [
      "Train on 60000 samples, validate on 10000 samples\n",
      "Epoch 1/50\n",
      "60000/60000 [==============================] - 3s 46us/step - loss: 1.3175 - acc: 0.7374 - val_loss: 0.4970 - val_acc: 0.9218\n",
      "Epoch 2/50\n",
      "60000/60000 [==============================] - 2s 41us/step - loss: 0.6169 - acc: 0.8686 - val_loss: 0.3569 - val_acc: 0.9309\n",
      "Epoch 3/50\n",
      "60000/60000 [==============================] - 3s 44us/step - loss: 0.5177 - acc: 0.8826 - val_loss: 0.3213 - val_acc: 0.9359\n",
      "Epoch 4/50\n",
      "60000/60000 [==============================] - 3s 48us/step - loss: 0.4878 - acc: 0.8883 - val_loss: 0.2923 - val_acc: 0.9442\n",
      "Epoch 5/50\n",
      "60000/60000 [==============================] - 3s 49us/step - loss: 0.4588 - acc: 0.8939 - val_loss: 0.2912 - val_acc: 0.9389\n",
      "Epoch 6/50\n",
      "60000/60000 [==============================] - 3s 48us/step - loss: 0.4513 - acc: 0.8973 - val_loss: 0.2803 - val_acc: 0.9441\n",
      "Epoch 7/50\n",
      "60000/60000 [==============================] - 3s 51us/step - loss: 0.4394 - acc: 0.9006 - val_loss: 0.2797 - val_acc: 0.9423\n",
      "Epoch 8/50\n",
      "60000/60000 [==============================] - 3s 52us/step - loss: 0.4362 - acc: 0.9010 - val_loss: 0.2635 - val_acc: 0.9489\n",
      "Epoch 9/50\n",
      "60000/60000 [==============================] - 3s 55us/step - loss: 0.4283 - acc: 0.9020 - val_loss: 0.2683 - val_acc: 0.9469\n",
      "Epoch 10/50\n",
      "60000/60000 [==============================] - 3s 51us/step - loss: 0.4288 - acc: 0.9023 - val_loss: 0.2847 - val_acc: 0.9404\n",
      "Epoch 11/50\n",
      "60000/60000 [==============================] - 3s 55us/step - loss: 0.4254 - acc: 0.9039 - val_loss: 0.2766 - val_acc: 0.9443\n",
      "Epoch 12/50\n",
      "60000/60000 [==============================] - 3s 52us/step - loss: 0.4263 - acc: 0.9040 - val_loss: 0.2637 - val_acc: 0.9514\n",
      "Epoch 13/50\n",
      "60000/60000 [==============================] - 3s 53us/step - loss: 0.4235 - acc: 0.9046 - val_loss: 0.2679 - val_acc: 0.9501\n",
      "Epoch 14/50\n",
      "60000/60000 [==============================] - 3s 54us/step - loss: 0.4179 - acc: 0.9059 - val_loss: 0.2618 - val_acc: 0.9516\n",
      "Epoch 15/50\n",
      "60000/60000 [==============================] - 3s 55us/step - loss: 0.4212 - acc: 0.9044 - val_loss: 0.2700 - val_acc: 0.9505\n",
      "Epoch 16/50\n",
      "60000/60000 [==============================] - 3s 55us/step - loss: 0.4203 - acc: 0.9060 - val_loss: 0.2696 - val_acc: 0.9469\n",
      "Epoch 17/50\n",
      "60000/60000 [==============================] - 3s 58us/step - loss: 0.4157 - acc: 0.9069 - val_loss: 0.2702 - val_acc: 0.9463\n",
      "Epoch 18/50\n",
      "60000/60000 [==============================] - 3s 56us/step - loss: 0.4164 - acc: 0.9054 - val_loss: 0.2484 - val_acc: 0.9543\n",
      "Epoch 19/50\n",
      "60000/60000 [==============================] - 3s 58us/step - loss: 0.4171 - acc: 0.9064 - val_loss: 0.2563 - val_acc: 0.9509\n",
      "Epoch 20/50\n",
      "60000/60000 [==============================] - 3s 56us/step - loss: 0.4115 - acc: 0.9079 - val_loss: 0.2516 - val_acc: 0.9542\n",
      "Epoch 21/50\n",
      "60000/60000 [==============================] - 3s 56us/step - loss: 0.4091 - acc: 0.9089 - val_loss: 0.2556 - val_acc: 0.9532\n",
      "Epoch 22/50\n",
      "60000/60000 [==============================] - 3s 56us/step - loss: 0.4111 - acc: 0.9067 - val_loss: 0.2494 - val_acc: 0.9523\n",
      "Epoch 23/50\n",
      "60000/60000 [==============================] - 3s 56us/step - loss: 0.4126 - acc: 0.9065 - val_loss: 0.2544 - val_acc: 0.9543\n",
      "Epoch 24/50\n",
      "60000/60000 [==============================] - 3s 55us/step - loss: 0.4153 - acc: 0.9067 - val_loss: 0.2647 - val_acc: 0.9499\n",
      "Epoch 25/50\n",
      "60000/60000 [==============================] - 3s 51us/step - loss: 0.4036 - acc: 0.9107 - val_loss: 0.2571 - val_acc: 0.9517\n",
      "Epoch 26/50\n",
      "60000/60000 [==============================] - 3s 52us/step - loss: 0.3987 - acc: 0.9094 - val_loss: 0.2659 - val_acc: 0.9494\n",
      "Epoch 27/50\n",
      "60000/60000 [==============================] - 3s 53us/step - loss: 0.4060 - acc: 0.9089 - val_loss: 0.2572 - val_acc: 0.9502\n",
      "Epoch 28/50\n",
      "60000/60000 [==============================] - 3s 51us/step - loss: 0.4121 - acc: 0.9069 - val_loss: 0.2611 - val_acc: 0.9501\n",
      "Epoch 29/50\n",
      "60000/60000 [==============================] - 3s 55us/step - loss: 0.4093 - acc: 0.9092 - val_loss: 0.2526 - val_acc: 0.9558\n",
      "Epoch 30/50\n",
      "60000/60000 [==============================] - 3s 51us/step - loss: 0.4053 - acc: 0.9098 - val_loss: 0.2611 - val_acc: 0.9491\n",
      "Epoch 31/50\n",
      "60000/60000 [==============================] - 3s 53us/step - loss: 0.4083 - acc: 0.9089 - val_loss: 0.2456 - val_acc: 0.9529\n",
      "Epoch 32/50\n",
      "60000/60000 [==============================] - 3s 55us/step - loss: 0.4001 - acc: 0.9106 - val_loss: 0.2546 - val_acc: 0.9493\n",
      "Epoch 33/50\n",
      "60000/60000 [==============================] - 3s 56us/step - loss: 0.4027 - acc: 0.9105 - val_loss: 0.2635 - val_acc: 0.9470\n",
      "Epoch 34/50\n",
      "60000/60000 [==============================] - 3s 54us/step - loss: 0.4040 - acc: 0.9087 - val_loss: 0.2494 - val_acc: 0.9537\n",
      "Epoch 35/50\n",
      "60000/60000 [==============================] - 3s 57us/step - loss: 0.4035 - acc: 0.9102 - val_loss: 0.2719 - val_acc: 0.9451\n",
      "Epoch 36/50\n",
      "60000/60000 [==============================] - 3s 55us/step - loss: 0.4061 - acc: 0.9092 - val_loss: 0.2501 - val_acc: 0.9514\n",
      "Epoch 37/50\n",
      "60000/60000 [==============================] - 3s 57us/step - loss: 0.4007 - acc: 0.9097 - val_loss: 0.2652 - val_acc: 0.9488\n",
      "Epoch 38/50\n",
      "60000/60000 [==============================] - 5s 79us/step - loss: 0.4093 - acc: 0.9085 - val_loss: 0.2793 - val_acc: 0.9444\n",
      "Epoch 39/50\n",
      "60000/60000 [==============================] - 3s 57us/step - loss: 0.4088 - acc: 0.9074 - val_loss: 0.2478 - val_acc: 0.9538\n",
      "Epoch 40/50\n",
      "60000/60000 [==============================] - 3s 55us/step - loss: 0.4013 - acc: 0.9106 - val_loss: 0.2618 - val_acc: 0.9477\n",
      "Epoch 41/50\n",
      "60000/60000 [==============================] - 3s 53us/step - loss: 0.3967 - acc: 0.9116 - val_loss: 0.2485 - val_acc: 0.9520\n",
      "Epoch 42/50\n",
      "60000/60000 [==============================] - 3s 51us/step - loss: 0.4031 - acc: 0.9095 - val_loss: 0.2895 - val_acc: 0.9409\n",
      "Epoch 43/50\n",
      "60000/60000 [==============================] - 4s 60us/step - loss: 0.4005 - acc: 0.9103 - val_loss: 0.2577 - val_acc: 0.9534\n",
      "Epoch 44/50\n",
      "60000/60000 [==============================] - 3s 56us/step - loss: 0.4002 - acc: 0.9098 - val_loss: 0.2634 - val_acc: 0.9472\n",
      "Epoch 45/50\n",
      "60000/60000 [==============================] - 3s 52us/step - loss: 0.4065 - acc: 0.9086 - val_loss: 0.2585 - val_acc: 0.9489\n",
      "Epoch 46/50\n",
      "60000/60000 [==============================] - 3s 50us/step - loss: 0.3990 - acc: 0.9090 - val_loss: 0.2787 - val_acc: 0.9441\n",
      "Epoch 47/50\n",
      "60000/60000 [==============================] - 3s 49us/step - loss: 0.4050 - acc: 0.9100 - val_loss: 0.2614 - val_acc: 0.9516\n",
      "Epoch 48/50\n",
      "60000/60000 [==============================] - 3s 51us/step - loss: 0.4033 - acc: 0.9106 - val_loss: 0.2552 - val_acc: 0.9521\n",
      "Epoch 49/50\n",
      "60000/60000 [==============================] - 3s 52us/step - loss: 0.4007 - acc: 0.9105 - val_loss: 0.2624 - val_acc: 0.9478\n",
      "Epoch 50/50\n",
      "60000/60000 [==============================] - 3s 54us/step - loss: 0.4009 - acc: 0.9112 - val_loss: 0.2592 - val_acc: 0.9510\n"
     ]
    },
    {
     "data": {
      "text/plain": [
       "<keras.callbacks.History at 0x7f066917c9e8>"
      ]
     },
     "execution_count": 13,
     "metadata": {},
     "output_type": "execute_result"
    }
   ],
   "source": [
    "model.compile(loss='categorical_crossentropy', optimizer='adam', metrics=['accuracy'])\n",
    "model.fit(X_train, y_train, batch_size=128, epochs=50, verbose=1, validation_data=(X_test, y_test))"
   ]
  },
  {
   "cell_type": "markdown",
   "metadata": {},
   "source": [
    "Rich loss: 0.1536 - acc: 0.9722 - val_loss: 0.1570 - val_acc: 0.971 on epoch 25...\n",
    "The difference between trainning accuracy and test accuracy is reduced. validation \n",
    "Overfitting will see the train accuracy getting higher but the test one decreasing."
   ]
  }
 ],
 "metadata": {
  "kernelspec": {
   "display_name": "Python 3",
   "language": "python",
   "name": "python3"
  },
  "language_info": {
   "codemirror_mode": {
    "name": "ipython",
    "version": 3
   },
   "file_extension": ".py",
   "mimetype": "text/x-python",
   "name": "python",
   "nbconvert_exporter": "python",
   "pygments_lexer": "ipython3",
   "version": "3.6.2"
  }
 },
 "nbformat": 4,
 "nbformat_minor": 2
}
